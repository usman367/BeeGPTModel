{
 "cells": [
  {
   "cell_type": "code",
   "execution_count": 75,
   "id": "f056d4e8",
   "metadata": {},
   "outputs": [],
   "source": [
    "import os\n",
    "import numpy as np\n",
    "import tensorflow as tf\n",
    "from tensorflow.keras.preprocessing.image import ImageDataGenerator\n",
    "from tensorflow.keras.layers import Input, Conv2D, MaxPooling2D, Flatten, Dense, Dropout\n",
    "from tensorflow.keras.models import Model\n",
    "from tensorflow.keras.optimizers import Adam\n",
    "from tensorflow.keras.regularizers import l2\n",
    "from sklearn.model_selection import train_test_split"
   ]
  },
  {
   "cell_type": "code",
   "execution_count": 88,
   "id": "8ef47c70",
   "metadata": {},
   "outputs": [],
   "source": [
    "data_dir = '17flowers'\n",
    "image_size = (128, 128) # Images will be resized to 128 by 128\n",
    "batch_size = 40\n",
    "num_classes = 17"
   ]
  },
  {
   "cell_type": "code",
   "execution_count": 89,
   "id": "bd97d074",
   "metadata": {},
   "outputs": [],
   "source": [
    "### DATA LOADING AND PREPROCESSING\n",
    "# Load the data and labels\n",
    "data = []\n",
    "labels = []\n",
    "class_names = sorted(os.listdir(os.path.join(data_dir))) # Read the class names\n",
    "# print(\"Class name: \", class_names)\n",
    "\n",
    "for class_name in class_names:\n",
    "    class_dir = os.path.join(data_dir, class_name) # Path to directory\n",
    "    for img_file in os.listdir(class_dir):\n",
    "        img_path = os.path.join(class_dir, img_file) # Path to the image\n",
    "        img = tf.keras.preprocessing.image.load_img(img_path, target_size=image_size) # Load and resize the image\n",
    "        img = tf.keras.preprocessing.image.img_to_array(img) # Convert the image to an array\n",
    "        \n",
    "        # Append the image and the class label to the respective lists\n",
    "        data.append(img)\n",
    "        labels.append(class_name)\n",
    "\n",
    "        \n",
    "data = np.array(data)\n",
    "# print(len(data))\n",
    "\n",
    "labels = np.array(labels)\n",
    "# print(\"Labels: \", labels)"
   ]
  },
  {
   "cell_type": "code",
   "execution_count": 90,
   "id": "125ded6f",
   "metadata": {},
   "outputs": [
    {
     "name": "stdout",
     "output_type": "stream",
     "text": [
      "label_to_index:  {'Bluebell': 0, 'Buttercup': 1, 'Coltsfoot': 2, 'Cowslip': 3, 'Crocus': 4, 'Daffodil': 5, 'Daisy': 6, 'Dandelion': 7, 'Fritillary': 8, 'Iris': 9, 'Lily Valley': 10, 'Pansy': 11, 'Snowdrop': 12, 'Sunflower': 13, 'Tigerlily': 14, 'Tulip': 15, 'Windflower': 16}\n",
      "labels:  [ 0  0  0 ... 16 16 16]\n",
      "labels length:  1360\n",
      "x_train size:  952\n",
      "x_temp size:  408\n",
      "x_val size:  204\n",
      "y_val size:  204\n"
     ]
    }
   ],
   "source": [
    "### DATA CONVERSION AND SPLITTING\n",
    "### Convert class names to integer labels\n",
    "# Create a mapping from class name to integer labels\n",
    "label_to_index = {label: i for i, label in enumerate(class_names)}\n",
    "print(\"label_to_index: \", label_to_index)\n",
    "\n",
    "# Converts class names to integer labels\n",
    "labels = np.array([label_to_index[label] for label in labels])\n",
    "print(\"labels: \", labels)\n",
    "print(\"labels length: \", len(labels))\n",
    "\n",
    "# Split data into training, validation, and testing sets\n",
    "# 70% will be used for training\n",
    "x_train, x_temp, y_train, y_temp = train_test_split(data, labels, test_size=0.3, random_state=42)\n",
    "print(\"x_train size: \", len(x_train))\n",
    "print(\"x_temp size: \", len(x_temp))\n",
    "\n",
    "\n",
    "# SPlit the data from above validations and testing (15% each now)\n",
    "x_val, x_test, y_val, y_test = train_test_split(x_temp, y_temp, test_size=0.5, random_state=42)\n",
    "print(\"x_val size: \", len(x_val))\n",
    "print(\"y_val size: \", len(y_val))\n"
   ]
  },
  {
   "cell_type": "code",
   "execution_count": 91,
   "id": "9ed0c05b",
   "metadata": {},
   "outputs": [
    {
     "name": "stdout",
     "output_type": "stream",
     "text": [
      "y_train:  [[0. 0. 0. ... 0. 0. 0.]\n",
      " [0. 0. 0. ... 0. 0. 0.]\n",
      " [0. 0. 0. ... 0. 0. 0.]\n",
      " ...\n",
      " [0. 0. 0. ... 0. 0. 1.]\n",
      " [0. 0. 0. ... 0. 0. 0.]\n",
      " [0. 0. 0. ... 1. 0. 0.]]\n"
     ]
    }
   ],
   "source": [
    "# Convert integer labels to one-hot encoded labels\n",
    "# To respresent class labels as categorical vectors\n",
    "y_train = tf.keras.utils.to_categorical(y_train, num_classes)\n",
    "y_val = tf.keras.utils.to_categorical(y_val, num_classes)\n",
    "y_test = tf.keras.utils.to_categorical(y_test, num_classes)\n",
    "\n",
    "print(\"y_train: \", y_train)"
   ]
  },
  {
   "cell_type": "code",
   "execution_count": 92,
   "id": "a355e3d1",
   "metadata": {},
   "outputs": [
    {
     "name": "stdout",
     "output_type": "stream",
     "text": [
      "Shape of batch: (128, 3)\n",
      "Image size (height x width x channels): 128 x 128 x 3\n",
      "Height of the images in the first batch: 40\n"
     ]
    }
   ],
   "source": [
    "# Create an iterator for the dataset\n",
    "train_iterator = iter(x_train)\n",
    "\n",
    "# Get the first batch\n",
    "first_batch = next(train_iterator)\n",
    "\n",
    "batch_shape = first_batch[0].shape\n",
    "print(\"Shape of batch:\", batch_shape)\n",
    "\n",
    "# Get the size (dimensions) of the first image\n",
    "image_height, image_width, num_channels = first_batch.shape\n",
    "print(\"Image size (height x width x channels):\", image_height, \"x\", image_width, \"x\", num_channels)\n",
    "\n",
    "# Check the size of the first batch\n",
    "batch_height = len(first_batch[0])  # Assuming the first element of the batch is the images\n",
    "print(\"Height of the images in the first batch:\", batch_size)\n"
   ]
  },
  {
   "cell_type": "code",
   "execution_count": 93,
   "id": "e6278846",
   "metadata": {},
   "outputs": [],
   "source": [
    "### DATA NORMALIZATION\n",
    "# The RGB channel values are in the [0, 255] range.\n",
    "# This is not ideal for a neural network\n",
    "# Normalize the pixel values to [0, 1]\n",
    "\n",
    "# print (x_train)\n",
    "x_train = x_train / 255.0\n",
    "x_val = x_val / 255.0\n",
    "x_test = x_test / 255.0\n",
    "# print (x_train)"
   ]
  },
  {
   "cell_type": "code",
   "execution_count": 94,
   "id": "4a90c4b9",
   "metadata": {},
   "outputs": [
    {
     "name": "stdout",
     "output_type": "stream",
     "text": [
      "Model: \"model_7\"\n",
      "_________________________________________________________________\n",
      " Layer (type)                Output Shape              Param #   \n",
      "=================================================================\n",
      " input_8 (InputLayer)        [(None, 128, 128, 3)]     0         \n",
      "                                                                 \n",
      " conv2d_21 (Conv2D)          (None, 126, 126, 32)      896       \n",
      "                                                                 \n",
      " max_pooling2d_21 (MaxPooli  (None, 31, 31, 32)        0         \n",
      " ng2D)                                                           \n",
      "                                                                 \n",
      " conv2d_22 (Conv2D)          (None, 29, 29, 64)        18496     \n",
      "                                                                 \n",
      " max_pooling2d_22 (MaxPooli  (None, 7, 7, 64)          0         \n",
      " ng2D)                                                           \n",
      "                                                                 \n",
      " conv2d_23 (Conv2D)          (None, 5, 5, 128)         73856     \n",
      "                                                                 \n",
      " max_pooling2d_23 (MaxPooli  (None, 1, 1, 128)         0         \n",
      " ng2D)                                                           \n",
      "                                                                 \n",
      " flatten_7 (Flatten)         (None, 128)               0         \n",
      "                                                                 \n",
      " dense_14 (Dense)            (None, 128)               16512     \n",
      "                                                                 \n",
      " dropout_7 (Dropout)         (None, 128)               0         \n",
      "                                                                 \n",
      " dense_15 (Dense)            (None, 17)                2193      \n",
      "                                                                 \n",
      "=================================================================\n",
      "Total params: 111953 (437.32 KB)\n",
      "Trainable params: 111953 (437.32 KB)\n",
      "Non-trainable params: 0 (0.00 Byte)\n",
      "_________________________________________________________________\n"
     ]
    }
   ],
   "source": [
    "# Build the model with regularization\n",
    "inputs = Input(shape=(image_size[0], image_size[1], 3))\n",
    "x = Conv2D(32, (3, 3), activation='relu')(inputs)\n",
    "x = MaxPooling2D((4, 4))(x)\n",
    "x = Conv2D(64, (3, 3), activation='relu')(x)\n",
    "x = MaxPooling2D((4, 4))(x)\n",
    "x = Conv2D(128, (3, 3), activation='relu')(x)\n",
    "x = MaxPooling2D((4, 4))(x)\n",
    "x = Flatten()(x)\n",
    "x = Dense(128, activation='relu')(x)\n",
    "x = Dropout(0.7)(x)\n",
    "outputs = Dense(num_classes, activation='softmax')(x)\n",
    "\n",
    "model = Model(inputs=inputs, outputs=outputs)\n",
    "model.summary()"
   ]
  },
  {
   "cell_type": "code",
   "execution_count": 95,
   "id": "104aff80",
   "metadata": {},
   "outputs": [],
   "source": [
    "# Compile the model using Adam optimizer\n",
    "model.compile(optimizer=Adam(learning_rate=0.001),\n",
    "              loss='categorical_crossentropy',\n",
    "              metrics=['accuracy'])"
   ]
  },
  {
   "cell_type": "code",
   "execution_count": 96,
   "id": "d33c4b7a",
   "metadata": {
    "scrolled": true
   },
   "outputs": [
    {
     "name": "stdout",
     "output_type": "stream",
     "text": [
      "Epoch 1/40\n",
      "24/24 [==============================] - 9s 257ms/step - loss: 2.8288 - accuracy: 0.0704 - val_loss: 2.7874 - val_accuracy: 0.1373\n",
      "Epoch 2/40\n",
      "24/24 [==============================] - 5s 215ms/step - loss: 2.6976 - accuracy: 0.1292 - val_loss: 2.5265 - val_accuracy: 0.1324\n",
      "Epoch 3/40\n",
      "24/24 [==============================] - 5s 218ms/step - loss: 2.5350 - accuracy: 0.1229 - val_loss: 2.4022 - val_accuracy: 0.1716\n",
      "Epoch 4/40\n",
      "24/24 [==============================] - 5s 207ms/step - loss: 2.4035 - accuracy: 0.1901 - val_loss: 2.3232 - val_accuracy: 0.2745\n",
      "Epoch 5/40\n",
      "24/24 [==============================] - 5s 203ms/step - loss: 2.2757 - accuracy: 0.2195 - val_loss: 2.1142 - val_accuracy: 0.2647\n",
      "Epoch 6/40\n",
      "24/24 [==============================] - 5s 202ms/step - loss: 2.1293 - accuracy: 0.2679 - val_loss: 2.0023 - val_accuracy: 0.2843\n",
      "Epoch 7/40\n",
      "24/24 [==============================] - 5s 195ms/step - loss: 2.0326 - accuracy: 0.3046 - val_loss: 1.8535 - val_accuracy: 0.3627\n",
      "Epoch 8/40\n",
      "24/24 [==============================] - 5s 198ms/step - loss: 1.9196 - accuracy: 0.3456 - val_loss: 1.7493 - val_accuracy: 0.3676\n",
      "Epoch 9/40\n",
      "24/24 [==============================] - 5s 196ms/step - loss: 1.8271 - accuracy: 0.3792 - val_loss: 1.6667 - val_accuracy: 0.4167\n",
      "Epoch 10/40\n",
      "24/24 [==============================] - 5s 196ms/step - loss: 1.7251 - accuracy: 0.4023 - val_loss: 1.5728 - val_accuracy: 0.4706\n",
      "Epoch 11/40\n",
      "24/24 [==============================] - 5s 198ms/step - loss: 1.6883 - accuracy: 0.4328 - val_loss: 1.4970 - val_accuracy: 0.4951\n",
      "Epoch 12/40\n",
      "24/24 [==============================] - 5s 200ms/step - loss: 1.5729 - accuracy: 0.4632 - val_loss: 1.3875 - val_accuracy: 0.5147\n",
      "Epoch 13/40\n",
      "24/24 [==============================] - 5s 210ms/step - loss: 1.4783 - accuracy: 0.4926 - val_loss: 1.3469 - val_accuracy: 0.5294\n",
      "Epoch 14/40\n",
      "24/24 [==============================] - 5s 213ms/step - loss: 1.4001 - accuracy: 0.5126 - val_loss: 1.2827 - val_accuracy: 0.5294\n",
      "Epoch 15/40\n",
      "24/24 [==============================] - 5s 209ms/step - loss: 1.3843 - accuracy: 0.5336 - val_loss: 1.4050 - val_accuracy: 0.5147\n",
      "Epoch 16/40\n",
      "24/24 [==============================] - 5s 205ms/step - loss: 1.4135 - accuracy: 0.5242 - val_loss: 1.2439 - val_accuracy: 0.5588\n",
      "Epoch 17/40\n",
      "24/24 [==============================] - 5s 207ms/step - loss: 1.3403 - accuracy: 0.5200 - val_loss: 1.2126 - val_accuracy: 0.5980\n",
      "Epoch 18/40\n",
      "24/24 [==============================] - 5s 207ms/step - loss: 1.2340 - accuracy: 0.5924 - val_loss: 1.2131 - val_accuracy: 0.5588\n",
      "Epoch 19/40\n",
      "24/24 [==============================] - 5s 202ms/step - loss: 1.1674 - accuracy: 0.5903 - val_loss: 1.1343 - val_accuracy: 0.5735\n",
      "Epoch 20/40\n",
      "24/24 [==============================] - 5s 200ms/step - loss: 1.1928 - accuracy: 0.5830 - val_loss: 1.1737 - val_accuracy: 0.5686\n",
      "Epoch 21/40\n",
      "24/24 [==============================] - 5s 203ms/step - loss: 1.1189 - accuracy: 0.5998 - val_loss: 1.1378 - val_accuracy: 0.5784\n",
      "Epoch 22/40\n",
      "24/24 [==============================] - 5s 197ms/step - loss: 1.1047 - accuracy: 0.6061 - val_loss: 1.0531 - val_accuracy: 0.6029\n",
      "Epoch 23/40\n",
      "24/24 [==============================] - 5s 202ms/step - loss: 1.0300 - accuracy: 0.6418 - val_loss: 1.0999 - val_accuracy: 0.6275\n",
      "Epoch 24/40\n",
      "24/24 [==============================] - 5s 211ms/step - loss: 1.0173 - accuracy: 0.6418 - val_loss: 1.0788 - val_accuracy: 0.6324\n",
      "Epoch 25/40\n",
      "24/24 [==============================] - 5s 195ms/step - loss: 0.9824 - accuracy: 0.6492 - val_loss: 1.0924 - val_accuracy: 0.5637\n",
      "Epoch 26/40\n",
      "24/24 [==============================] - 5s 199ms/step - loss: 0.9510 - accuracy: 0.6723 - val_loss: 0.9911 - val_accuracy: 0.6667\n",
      "Epoch 27/40\n",
      "24/24 [==============================] - 5s 215ms/step - loss: 0.9045 - accuracy: 0.6933 - val_loss: 0.9808 - val_accuracy: 0.6422\n",
      "Epoch 28/40\n",
      "24/24 [==============================] - 5s 214ms/step - loss: 0.8928 - accuracy: 0.6691 - val_loss: 0.9980 - val_accuracy: 0.6176\n",
      "Epoch 29/40\n",
      "24/24 [==============================] - 5s 205ms/step - loss: 0.8312 - accuracy: 0.7164 - val_loss: 0.8531 - val_accuracy: 0.7059\n",
      "Epoch 30/40\n",
      "24/24 [==============================] - 5s 206ms/step - loss: 0.8013 - accuracy: 0.7269 - val_loss: 0.9790 - val_accuracy: 0.6716\n",
      "Epoch 31/40\n",
      "24/24 [==============================] - 5s 208ms/step - loss: 0.7482 - accuracy: 0.7500 - val_loss: 0.8544 - val_accuracy: 0.7108\n",
      "Epoch 32/40\n",
      "24/24 [==============================] - 5s 206ms/step - loss: 0.7364 - accuracy: 0.7405 - val_loss: 1.0509 - val_accuracy: 0.6471\n",
      "Epoch 33/40\n",
      "24/24 [==============================] - 5s 217ms/step - loss: 0.7107 - accuracy: 0.7532 - val_loss: 0.8824 - val_accuracy: 0.6716\n",
      "Epoch 34/40\n",
      "24/24 [==============================] - 5s 208ms/step - loss: 0.6357 - accuracy: 0.7742 - val_loss: 0.8726 - val_accuracy: 0.6863\n",
      "Epoch 35/40\n",
      "24/24 [==============================] - 5s 207ms/step - loss: 0.6191 - accuracy: 0.7952 - val_loss: 0.8055 - val_accuracy: 0.6912\n",
      "Epoch 36/40\n",
      "24/24 [==============================] - 5s 209ms/step - loss: 0.6687 - accuracy: 0.7794 - val_loss: 0.8919 - val_accuracy: 0.7059\n",
      "Epoch 37/40\n",
      "24/24 [==============================] - 5s 213ms/step - loss: 0.6560 - accuracy: 0.7721 - val_loss: 0.8472 - val_accuracy: 0.6912\n",
      "Epoch 38/40\n",
      "24/24 [==============================] - 5s 203ms/step - loss: 0.6255 - accuracy: 0.7826 - val_loss: 0.8512 - val_accuracy: 0.7206\n",
      "Epoch 39/40\n",
      "24/24 [==============================] - 5s 209ms/step - loss: 0.5556 - accuracy: 0.8298 - val_loss: 0.8054 - val_accuracy: 0.7353\n",
      "Epoch 40/40\n",
      "24/24 [==============================] - 5s 201ms/step - loss: 0.5184 - accuracy: 0.8225 - val_loss: 0.7950 - val_accuracy: 0.7353\n"
     ]
    }
   ],
   "source": [
    "# Train the model\n",
    "epochs = 40\n",
    "hist = model.fit(x_train, y_train,\n",
    "          validation_data=(x_val, y_val),\n",
    "          batch_size=batch_size,\n",
    "          epochs=epochs)"
   ]
  },
  {
   "cell_type": "markdown",
   "id": "0cfc15d9",
   "metadata": {},
   "source": [
    "# Plot Accuracy"
   ]
  },
  {
   "cell_type": "code",
   "execution_count": 97,
   "id": "1eb9eaaf",
   "metadata": {},
   "outputs": [
    {
     "data": {
      "image/png": "[encoded data removed]",
      "text/plain": [
       "<Figure size 640x480 with 1 Axes>"
      ]
     },
     "metadata": {},
     "output_type": "display_data"
    }
   ],
   "source": [
    "# Visualise our loss\n",
    "# Loss: measure of how well a model's predictions match the true target values in the training dataset. \n",
    "# The goal of training a machine learning model is to minimize the loss function, as this indicates that the model is making more accurate predictions.\n",
    "# When training a model, it starts with some initial set of parameters (weights and biases) and makes predictions on the training data. \n",
    "# The loss function then quantifies the difference between these predictions and the actual target values. \n",
    "# The larger the difference, the higher the loss, indicating that the model is performing poorly.\n",
    "from matplotlib import pyplot as plt\n",
    "\n",
    "fig = plt.figure()\n",
    "plt.plot(hist.history['loss'], color='teal', label='loss') # Training Loss\n",
    "plt.plot(hist.history['val_loss'], color='orange', label='val_loss') # Validation Loss\n",
    "fig.suptitle('Loss', fontsize=20)\n",
    "plt.legend(loc=\"upper left\")\n",
    "plt.show()\n",
    "\n",
    "# Our validation loss is increasing so the model is overfitting here (as mentioned in the video)\n",
    "# Might need to perform some regularization as model is overfitting here"
   ]
  },
  {
   "cell_type": "code",
   "execution_count": 98,
   "id": "1d8ffa56",
   "metadata": {},
   "outputs": [
    {
     "data": {
      "image/png": "[encoded data removed]",
      "text/plain": [
       "<Figure size 640x480 with 1 Axes>"
      ]
     },
     "metadata": {},
     "output_type": "display_data"
    }
   ],
   "source": [
    "# Visualise the accuracy\n",
    "fig = plt.figure()\n",
    "plt.plot(hist.history['accuracy'], color='teal', label='accuracy')\n",
    "plt.plot(hist.history['val_accuracy'], color='orange', label='val_accuracy')\n",
    "fig.suptitle('Accuracy', fontsize=20)\n",
    "plt.legend(loc=\"upper left\")\n",
    "plt.show()"
   ]
  },
  {
   "cell_type": "code",
   "execution_count": 99,
   "id": "e07c8164",
   "metadata": {},
   "outputs": [],
   "source": [
    "# Save the model\n",
    "from tensorflow.keras.models import load_model\n",
    "model.save(os.path.join('models\\\\Regularization\\\\1DropoutLayer0.7', '40EpochsTest7.keras'))"
   ]
  },
  {
   "cell_type": "markdown",
   "id": "cab7a524",
   "metadata": {},
   "source": [
    "# Making Predictions"
   ]
  },
  {
   "cell_type": "code",
   "execution_count": 100,
   "id": "eb83c813",
   "metadata": {},
   "outputs": [],
   "source": [
    "from tensorflow.keras.preprocessing.image import load_img, img_to_array"
   ]
  },
  {
   "cell_type": "code",
   "execution_count": 131,
   "id": "a0bcbc9c",
   "metadata": {},
   "outputs": [],
   "source": [
    "# Load the model\n",
    "# new_model = load_model('models/plantsimageclassifier2.h5')\n",
    "# new_model = load_model('models\\\\Regularization\\\\1DropoutLayer0.7\\\\40EpochsTest5.keras')\n",
    "new_model = load_model('models\\\\AllMpsIncreadToFour\\\\AllMPsIncreasedFour15.keras')"
   ]
  },
  {
   "cell_type": "code",
   "execution_count": 132,
   "id": "59475324",
   "metadata": {},
   "outputs": [],
   "source": [
    "# Load the new test images\n",
    "new_image_paths = ['C:\\\\Users\\\\usman\\\\ML\\\\BeeGPTModel\\\\TestPics\\\\Bluebell.jpg', 'C:\\\\Users\\\\usman\\\\ML\\\\BeeGPTModel\\\\TestPics\\\\Buttercup.jpg', 'C:\\\\Users\\\\usman\\\\ML\\\\BeeGPTModel\\\\TestPics\\\\Coltsfoot.jpg', 'C:\\\\Users\\\\usman\\\\ML\\\\BeeGPTModel\\\\TestPics\\\\Cowslip.jpg', 'C:\\\\Users\\\\usman\\\\ML\\\\BeeGPTModel\\\\TestPics\\\\Crocus.jpg', 'C:\\\\Users\\\\usman\\\\ML\\\\BeeGPTModel\\\\TestPics\\\\Daffodil.jpg', 'C:\\\\Users\\\\usman\\\\ML\\\\BeeGPTModel\\\\TestPics\\\\Daisy.jpg', 'C:\\\\Users\\\\usman\\\\ML\\\\BeeGPTModel\\\\TestPics\\\\Dandelion.jpg', 'C:\\\\Users\\\\usman\\\\ML\\\\BeeGPTModel\\\\TestPics\\\\Fritillary.jpg', 'C:\\\\Users\\\\usman\\\\ML\\\\BeeGPTModel\\\\TestPics\\\\Iris.jpg', 'C:\\\\Users\\\\usman\\\\ML\\\\BeeGPTModel\\\\TestPics\\\\LilValley.jpg', 'C:\\\\Users\\\\usman\\\\ML\\\\BeeGPTModel\\\\TestPics\\\\Pansy.jpg', 'C:\\\\Users\\\\usman\\\\ML\\\\BeeGPTModel\\\\TestPics\\\\Snowdrop.jpg', 'C:\\\\Users\\\\usman\\\\ML\\\\BeeGPTModel\\\\TestPics\\\\Sunflower.jpg', 'C:\\\\Users\\\\usman\\\\ML\\\\BeeGPTModel\\\\TestPics\\\\Tigerly.jpg', 'C:\\\\Users\\\\usman\\\\ML\\\\BeeGPTModel\\\\TestPics\\\\Tulip.jpg', 'C:\\\\Users\\\\usman\\\\ML\\\\BeeGPTModel\\\\TestPics\\\\Windflower.jpg']\n",
    "new_images = []  # Store preprocessed images here\n",
    "for image_path in new_image_paths:\n",
    "    new_image = load_img(image_path, target_size=image_size)\n",
    "    new_image = img_to_array(new_image)\n",
    "    new_image = new_image / 255.0\n",
    "    new_images.append(new_image)\n",
    "\n",
    "new_images = np.array(new_images)"
   ]
  },
  {
   "cell_type": "code",
   "execution_count": 133,
   "id": "1fe2f41c",
   "metadata": {},
   "outputs": [
    {
     "name": "stdout",
     "output_type": "stream",
     "text": [
      "WARNING:tensorflow:6 out of the last 6 calls to <function Model.make_predict_function.<locals>.predict_function at 0x000001EB34755D00> triggered tf.function retracing. Tracing is expensive and the excessive number of tracings could be due to (1) creating @tf.function repeatedly in a loop, (2) passing tensors with different shapes, (3) passing Python objects instead of tensors. For (1), please define your @tf.function outside of the loop. For (2), @tf.function has reduce_retracing=True option that can avoid unnecessary retracing. For (3), please refer to https://www.tensorflow.org/guide/function#controlling_retracing and https://www.tensorflow.org/api_docs/python/tf/function for  more details.\n",
      "1/1 [==============================] - 0s 194ms/step\n"
     ]
    }
   ],
   "source": [
    "# Make predictions for all new images\n",
    "predictions = new_model.predict(new_images)"
   ]
  },
  {
   "cell_type": "code",
   "execution_count": 134,
   "id": "c7db65f5",
   "metadata": {},
   "outputs": [],
   "source": [
    "predicted_labels = np.argmax(predictions, axis=1)\n",
    "class_labels = list(label_to_index.keys())  # Get class labels from the label-to-index mapping\n",
    "predicted_classes = [class_labels[i] for i in predicted_labels]"
   ]
  },
  {
   "cell_type": "code",
   "execution_count": 135,
   "id": "d28cb95d",
   "metadata": {},
   "outputs": [
    {
     "name": "stdout",
     "output_type": "stream",
     "text": [
      "The expected class is: Bluebell and the predicted class is: Bluebell\n",
      "The expected class is: Buttercup and the predicted class is: Buttercup\n",
      "The expected class is: Coltsfoot and the predicted class is: Cowslip\n",
      "The expected class is: Cowslip and the predicted class is: Cowslip\n",
      "The expected class is: Crocus and the predicted class is: Crocus\n",
      "The expected class is: Daffodil and the predicted class is: Cowslip\n",
      "The expected class is: Daisy and the predicted class is: Daisy\n",
      "The expected class is: Dandelion and the predicted class is: Windflower\n",
      "The expected class is: Fritillary and the predicted class is: Fritillary\n",
      "The expected class is: Iris and the predicted class is: Bluebell\n",
      "The expected class is: Lily Valley and the predicted class is: Lily Valley\n",
      "The expected class is: Pansy and the predicted class is: Fritillary\n",
      "The expected class is: Snowdrop and the predicted class is: Lily Valley\n",
      "The expected class is: Sunflower and the predicted class is: Cowslip\n",
      "The expected class is: Tigerlily and the predicted class is: Tigerlily\n",
      "The expected class is: Tulip and the predicted class is: Fritillary\n",
      "The expected class is: Windflower and the predicted class is: Fritillary\n"
     ]
    }
   ],
   "source": [
    "# print(\"The expected classes are: 'Bluebell', 'Buttercup', 'Coltsfoot', 'Cowslip', 'Crocus', 'Daffodil', 'Daisy', 'Dandelion', 'Fritillary', 'Iris', 'Lily Valley', 'Pansy', 'Snowdrop', 'Sunflower', 'Tigerlily', 'Tulip', 'Windflower'\")\n",
    "# print('The actual result is: ')\n",
    "# print(predicted_classes)\n",
    "\n",
    "expected_classes = ['Bluebell', 'Buttercup', 'Coltsfoot', 'Cowslip', 'Crocus', 'Daffodil', 'Daisy', 'Dandelion', 'Fritillary', 'Iris', 'Lily Valley', 'Pansy', 'Snowdrop', 'Sunflower', 'Tigerlily', 'Tulip', 'Windflower']\n",
    "\n",
    "for i in range(0, len(expected_classes)):\n",
    "    print(\"The expected class is:\", expected_classes[i], \"and the predicted class is:\", predicted_classes[i])"
   ]
  },
  {
   "cell_type": "code",
   "execution_count": null,
   "id": "7af7743b",
   "metadata": {},
   "outputs": [],
   "source": []
  }
 ],
 "metadata": {
  "kernelspec": {
   "display_name": "Python 3 (ipykernel)",
   "language": "python",
   "name": "python3"
  },
  "language_info": {
   "codemirror_mode": {
    "name": "ipython",
    "version": 3
   },
   "file_extension": ".py",
   "mimetype": "text/x-python",
   "name": "python",
   "nbconvert_exporter": "python",
   "pygments_lexer": "ipython3",
   "version": "3.11.3"
  }
 },
 "nbformat": 4,
 "nbformat_minor": 5
}

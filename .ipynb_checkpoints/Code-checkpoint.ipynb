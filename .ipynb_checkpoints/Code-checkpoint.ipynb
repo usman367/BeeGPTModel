{
 "cells": [
  {
   "cell_type": "code",
   "execution_count": 39,
   "id": "f056d4e8",
   "metadata": {},
   "outputs": [],
   "source": [
    "import os\n",
    "import numpy as np\n",
    "import tensorflow as tf\n",
    "from tensorflow.keras.preprocessing.image import ImageDataGenerator\n",
    "from tensorflow.keras.layers import Input, Conv2D, MaxPooling2D, Flatten, Dense, Dropout\n",
    "from tensorflow.keras.models import Model\n",
    "from tensorflow.keras.optimizers import Adam\n",
    "from tensorflow.keras.regularizers import l2\n",
    "from sklearn.model_selection import train_test_split"
   ]
  },
  {
   "cell_type": "code",
   "execution_count": 86,
   "id": "8ef47c70",
   "metadata": {},
   "outputs": [],
   "source": [
    "data_dir = '17flowers'\n",
    "image_size = (128, 128) # Images will be resized to 128 by 128\n",
    "batch_size = 40\n",
    "num_classes = 17"
   ]
  },
  {
   "cell_type": "code",
   "execution_count": 87,
   "id": "bd97d074",
   "metadata": {},
   "outputs": [],
   "source": [
    "### DATA LOADING AND PREPROCESSING\n",
    "# Load the data and labels\n",
    "data = []\n",
    "labels = []\n",
    "class_names = sorted(os.listdir(os.path.join(data_dir))) # Read the class names\n",
    "# print(\"Class name: \", class_names)\n",
    "\n",
    "for class_name in class_names:\n",
    "    class_dir = os.path.join(data_dir, class_name) # Path to directory\n",
    "    for img_file in os.listdir(class_dir):\n",
    "        img_path = os.path.join(class_dir, img_file) # Path to the image\n",
    "        img = tf.keras.preprocessing.image.load_img(img_path, target_size=image_size) # Load and resize the image\n",
    "        img = tf.keras.preprocessing.image.img_to_array(img) # Convert the image to an array\n",
    "        \n",
    "        # Append the image and the class label to the respective lists\n",
    "        data.append(img)\n",
    "        labels.append(class_name)\n",
    "\n",
    "        \n",
    "data = np.array(data)\n",
    "# print(len(data))\n",
    "\n",
    "labels = np.array(labels)\n",
    "# print(\"Labels: \", labels)"
   ]
  },
  {
   "cell_type": "code",
   "execution_count": 88,
   "id": "125ded6f",
   "metadata": {},
   "outputs": [
    {
     "name": "stdout",
     "output_type": "stream",
     "text": [
      "label_to_index:  {'Bluebell': 0, 'Buttercup': 1, 'Coltsfoot': 2, 'Cowslip': 3, 'Crocus': 4, 'Daffodil': 5, 'Daisy': 6, 'Dandelion': 7, 'Fritillary': 8, 'Iris': 9, 'Lily Valley': 10, 'Pansy': 11, 'Snowdrop': 12, 'Sunflower': 13, 'Tigerlily': 14, 'Tulip': 15, 'Windflower': 16}\n",
      "labels:  [ 0  0  0 ... 16 16 16]\n",
      "labels length:  1360\n",
      "x_train size:  952\n",
      "x_temp size:  408\n",
      "x_val size:  204\n",
      "y_val size:  204\n"
     ]
    }
   ],
   "source": [
    "### DATA CONVERSION AND SPLITTING\n",
    "### Convert class names to integer labels\n",
    "# Create a mapping from class name to integer labels\n",
    "label_to_index = {label: i for i, label in enumerate(class_names)}\n",
    "print(\"label_to_index: \", label_to_index)\n",
    "\n",
    "# Converts class names to integer labels\n",
    "labels = np.array([label_to_index[label] for label in labels])\n",
    "print(\"labels: \", labels)\n",
    "print(\"labels length: \", len(labels))\n",
    "\n",
    "# Split data into training, validation, and testing sets\n",
    "# 70% will be used for training\n",
    "x_train, x_temp, y_train, y_temp = train_test_split(data, labels, test_size=0.3, random_state=42)\n",
    "print(\"x_train size: \", len(x_train))\n",
    "print(\"x_temp size: \", len(x_temp))\n",
    "\n",
    "\n",
    "# SPlit the data from above validations and testing (15% each now)\n",
    "x_val, x_test, y_val, y_test = train_test_split(x_temp, y_temp, test_size=0.5, random_state=42)\n",
    "print(\"x_val size: \", len(x_val))\n",
    "print(\"y_val size: \", len(y_val))\n"
   ]
  },
  {
   "cell_type": "code",
   "execution_count": 89,
   "id": "9ed0c05b",
   "metadata": {},
   "outputs": [
    {
     "name": "stdout",
     "output_type": "stream",
     "text": [
      "y_train:  [[0. 0. 0. ... 0. 0. 0.]\n",
      " [0. 0. 0. ... 0. 0. 0.]\n",
      " [0. 0. 0. ... 0. 0. 0.]\n",
      " ...\n",
      " [0. 0. 0. ... 0. 0. 1.]\n",
      " [0. 0. 0. ... 0. 0. 0.]\n",
      " [0. 0. 0. ... 1. 0. 0.]]\n"
     ]
    }
   ],
   "source": [
    "# Convert integer labels to one-hot encoded labels\n",
    "# To respresent class labels as categorical vectors\n",
    "y_train = tf.keras.utils.to_categorical(y_train, num_classes)\n",
    "y_val = tf.keras.utils.to_categorical(y_val, num_classes)\n",
    "y_test = tf.keras.utils.to_categorical(y_test, num_classes)\n",
    "\n",
    "print(\"y_train: \", y_train)"
   ]
  },
  {
   "cell_type": "code",
   "execution_count": 90,
   "id": "a355e3d1",
   "metadata": {},
   "outputs": [
    {
     "name": "stdout",
     "output_type": "stream",
     "text": [
      "Shape of batch: (128, 3)\n",
      "Image size (height x width x channels): 128 x 128 x 3\n",
      "Height of the images in the first batch: 40\n"
     ]
    }
   ],
   "source": [
    "# Create an iterator for the dataset\n",
    "train_iterator = iter(x_train)\n",
    "\n",
    "# Get the first batch\n",
    "first_batch = next(train_iterator)\n",
    "\n",
    "batch_shape = first_batch[0].shape\n",
    "print(\"Shape of batch:\", batch_shape)\n",
    "\n",
    "# Get the size (dimensions) of the first image\n",
    "image_height, image_width, num_channels = first_batch.shape\n",
    "print(\"Image size (height x width x channels):\", image_height, \"x\", image_width, \"x\", num_channels)\n",
    "\n",
    "# Check the size of the first batch\n",
    "batch_height = len(first_batch[0])  # Assuming the first element of the batch is the images\n",
    "print(\"Height of the images in the first batch:\", batch_size)\n"
   ]
  },
  {
   "cell_type": "code",
   "execution_count": 91,
   "id": "e6278846",
   "metadata": {},
   "outputs": [],
   "source": [
    "### DATA NORMALIZATION\n",
    "# The RGB channel values are in the [0, 255] range.\n",
    "# This is not ideal for a neural network\n",
    "# Normalize the pixel values to [0, 1]\n",
    "\n",
    "# print (x_train)\n",
    "x_train = x_train / 255.0\n",
    "x_val = x_val / 255.0\n",
    "x_test = x_test / 255.0\n",
    "# print (x_train)"
   ]
  },
  {
   "cell_type": "code",
   "execution_count": 92,
   "id": "4a90c4b9",
   "metadata": {},
   "outputs": [
    {
     "name": "stdout",
     "output_type": "stream",
     "text": [
      "Model: \"model_8\"\n",
      "_________________________________________________________________\n",
      " Layer (type)                Output Shape              Param #   \n",
      "=================================================================\n",
      " input_9 (InputLayer)        [(None, 128, 128, 3)]     0         \n",
      "                                                                 \n",
      " conv2d_24 (Conv2D)          (None, 126, 126, 32)      896       \n",
      "                                                                 \n",
      " max_pooling2d_24 (MaxPooli  (None, 31, 31, 32)        0         \n",
      " ng2D)                                                           \n",
      "                                                                 \n",
      " conv2d_25 (Conv2D)          (None, 29, 29, 64)        18496     \n",
      "                                                                 \n",
      " max_pooling2d_25 (MaxPooli  (None, 7, 7, 64)          0         \n",
      " ng2D)                                                           \n",
      "                                                                 \n",
      " conv2d_26 (Conv2D)          (None, 5, 5, 128)         73856     \n",
      "                                                                 \n",
      " max_pooling2d_26 (MaxPooli  (None, 1, 1, 128)         0         \n",
      " ng2D)                                                           \n",
      "                                                                 \n",
      " flatten_8 (Flatten)         (None, 128)               0         \n",
      "                                                                 \n",
      " dense_16 (Dense)            (None, 128)               16512     \n",
      "                                                                 \n",
      " dropout_17 (Dropout)        (None, 128)               0         \n",
      "                                                                 \n",
      " dense_17 (Dense)            (None, 17)                2193      \n",
      "                                                                 \n",
      "=================================================================\n",
      "Total params: 111953 (437.32 KB)\n",
      "Trainable params: 111953 (437.32 KB)\n",
      "Non-trainable params: 0 (0.00 Byte)\n",
      "_________________________________________________________________\n"
     ]
    }
   ],
   "source": [
    "# Build the model with regularization\n",
    "inputs = Input(shape=(image_size[0], image_size[1], 3))\n",
    "x = Conv2D(32, (3, 3), activation='relu')(inputs)\n",
    "x = MaxPooling2D((4, 4))(x)\n",
    "x = Conv2D(64, (3, 3), activation='relu')(x)\n",
    "x = MaxPooling2D((4, 4))(x)\n",
    "x = Conv2D(128, (3, 3), activation='relu')(x)\n",
    "x = Dropout(0.7)(x)\n",
    "x = MaxPooling2D((4, 4))(x)\n",
    "x = Flatten()(x)\n",
    "x = Dense(128, activation='relu')(x)\n",
    "outputs = Dense(num_classes, activation='softmax')(x)\n",
    "\n",
    "model = Model(inputs=inputs, outputs=outputs)\n",
    "model.summary()"
   ]
  },
  {
   "cell_type": "code",
   "execution_count": 93,
   "id": "104aff80",
   "metadata": {},
   "outputs": [],
   "source": [
    "# Compile the model using Adam optimizer\n",
    "model.compile(optimizer=Adam(learning_rate=0.001),\n",
    "              loss='categorical_crossentropy',\n",
    "              metrics=['accuracy'])"
   ]
  },
  {
   "cell_type": "code",
   "execution_count": 94,
   "id": "d33c4b7a",
   "metadata": {
    "scrolled": true
   },
   "outputs": [
    {
     "name": "stdout",
     "output_type": "stream",
     "text": [
      "Epoch 1/30\n",
      "24/24 [==============================] - 7s 236ms/step - loss: 2.8477 - accuracy: 0.0536 - val_loss: 2.8258 - val_accuracy: 0.0637\n",
      "Epoch 2/30\n",
      "24/24 [==============================] - 5s 206ms/step - loss: 2.8103 - accuracy: 0.0882 - val_loss: 2.7737 - val_accuracy: 0.1078\n",
      "Epoch 3/30\n",
      "24/24 [==============================] - 5s 219ms/step - loss: 2.6762 - accuracy: 0.1292 - val_loss: 2.5685 - val_accuracy: 0.0931\n",
      "Epoch 4/30\n",
      "24/24 [==============================] - 5s 209ms/step - loss: 2.5343 - accuracy: 0.1397 - val_loss: 2.4121 - val_accuracy: 0.1814\n",
      "Epoch 5/30\n",
      "24/24 [==============================] - 5s 203ms/step - loss: 2.4395 - accuracy: 0.1691 - val_loss: 2.2648 - val_accuracy: 0.2353\n",
      "Epoch 6/30\n",
      "24/24 [==============================] - 5s 202ms/step - loss: 2.2942 - accuracy: 0.2174 - val_loss: 2.0961 - val_accuracy: 0.2941\n",
      "Epoch 7/30\n",
      "24/24 [==============================] - 6s 250ms/step - loss: 2.1619 - accuracy: 0.2542 - val_loss: 1.9332 - val_accuracy: 0.3235\n",
      "Epoch 8/30\n",
      "24/24 [==============================] - 5s 209ms/step - loss: 2.0156 - accuracy: 0.3036 - val_loss: 1.8473 - val_accuracy: 0.3676\n",
      "Epoch 9/30\n",
      "24/24 [==============================] - 5s 218ms/step - loss: 1.8763 - accuracy: 0.3309 - val_loss: 1.6794 - val_accuracy: 0.4167\n",
      "Epoch 10/30\n",
      "24/24 [==============================] - 5s 218ms/step - loss: 1.7820 - accuracy: 0.3592 - val_loss: 1.6488 - val_accuracy: 0.4608\n",
      "Epoch 11/30\n",
      "24/24 [==============================] - 5s 213ms/step - loss: 1.7349 - accuracy: 0.4013 - val_loss: 1.6264 - val_accuracy: 0.4363\n",
      "Epoch 12/30\n",
      "24/24 [==============================] - 5s 191ms/step - loss: 1.6472 - accuracy: 0.4118 - val_loss: 1.4490 - val_accuracy: 0.5196\n",
      "Epoch 13/30\n",
      "24/24 [==============================] - 5s 199ms/step - loss: 1.6018 - accuracy: 0.4307 - val_loss: 1.3918 - val_accuracy: 0.5000\n",
      "Epoch 14/30\n",
      "24/24 [==============================] - 5s 206ms/step - loss: 1.5503 - accuracy: 0.4580 - val_loss: 1.3782 - val_accuracy: 0.5294\n",
      "Epoch 15/30\n",
      "24/24 [==============================] - 5s 215ms/step - loss: 1.4487 - accuracy: 0.4926 - val_loss: 1.3318 - val_accuracy: 0.5539\n",
      "Epoch 16/30\n",
      "24/24 [==============================] - 5s 220ms/step - loss: 1.4113 - accuracy: 0.5147 - val_loss: 1.2746 - val_accuracy: 0.5735\n",
      "Epoch 17/30\n",
      "24/24 [==============================] - 5s 209ms/step - loss: 1.3532 - accuracy: 0.5200 - val_loss: 1.2448 - val_accuracy: 0.5392\n",
      "Epoch 18/30\n",
      "24/24 [==============================] - 5s 196ms/step - loss: 1.2679 - accuracy: 0.5746 - val_loss: 1.1343 - val_accuracy: 0.6078\n",
      "Epoch 19/30\n",
      "24/24 [==============================] - 5s 203ms/step - loss: 1.2386 - accuracy: 0.5515 - val_loss: 1.1344 - val_accuracy: 0.6029\n",
      "Epoch 20/30\n",
      "24/24 [==============================] - 5s 196ms/step - loss: 1.1944 - accuracy: 0.5830 - val_loss: 1.1344 - val_accuracy: 0.6127\n",
      "Epoch 21/30\n",
      "24/24 [==============================] - 5s 197ms/step - loss: 1.1446 - accuracy: 0.5840 - val_loss: 1.0974 - val_accuracy: 0.6078\n",
      "Epoch 22/30\n",
      "24/24 [==============================] - 5s 202ms/step - loss: 1.1229 - accuracy: 0.5882 - val_loss: 1.0590 - val_accuracy: 0.6078\n",
      "Epoch 23/30\n",
      "24/24 [==============================] - 5s 201ms/step - loss: 1.0438 - accuracy: 0.6460 - val_loss: 1.0703 - val_accuracy: 0.5931\n",
      "Epoch 24/30\n",
      "24/24 [==============================] - 5s 194ms/step - loss: 1.0130 - accuracy: 0.6397 - val_loss: 1.0970 - val_accuracy: 0.6078\n",
      "Epoch 25/30\n",
      "24/24 [==============================] - 5s 204ms/step - loss: 1.0332 - accuracy: 0.6187 - val_loss: 1.0412 - val_accuracy: 0.6127\n",
      "Epoch 26/30\n",
      "24/24 [==============================] - 5s 189ms/step - loss: 1.0166 - accuracy: 0.6239 - val_loss: 1.1157 - val_accuracy: 0.6078\n",
      "Epoch 27/30\n",
      "24/24 [==============================] - 5s 193ms/step - loss: 0.9376 - accuracy: 0.6691 - val_loss: 0.9699 - val_accuracy: 0.6716\n",
      "Epoch 28/30\n",
      "24/24 [==============================] - 5s 196ms/step - loss: 0.8712 - accuracy: 0.6922 - val_loss: 1.0243 - val_accuracy: 0.6225\n",
      "Epoch 29/30\n",
      "24/24 [==============================] - 5s 197ms/step - loss: 0.8768 - accuracy: 0.6849 - val_loss: 0.8843 - val_accuracy: 0.6471\n",
      "Epoch 30/30\n",
      "24/24 [==============================] - 5s 197ms/step - loss: 0.7933 - accuracy: 0.7090 - val_loss: 0.9704 - val_accuracy: 0.6471\n"
     ]
    }
   ],
   "source": [
    "# Train the model\n",
    "epochs = 30\n",
    "hist = model.fit(x_train, y_train,\n",
    "          validation_data=(x_val, y_val),\n",
    "          batch_size=batch_size,\n",
    "          epochs=epochs)"
   ]
  },
  {
   "cell_type": "markdown",
   "id": "0cfc15d9",
   "metadata": {},
   "source": [
    "# Plot Accuracy"
   ]
  },
  {
   "cell_type": "code",
   "execution_count": 95,
   "id": "1eb9eaaf",
   "metadata": {},
   "outputs": [
    {
     "data": {
      "image/png": "[encoded data removed]",
      "text/plain": [
       "<Figure size 640x480 with 1 Axes>"
      ]
     },
     "metadata": {},
     "output_type": "display_data"
    }
   ],
   "source": [
    "# Visualise our loss\n",
    "# Loss: measure of how well a model's predictions match the true target values in the training dataset. \n",
    "# The goal of training a machine learning model is to minimize the loss function, as this indicates that the model is making more accurate predictions.\n",
    "# When training a model, it starts with some initial set of parameters (weights and biases) and makes predictions on the training data. \n",
    "# The loss function then quantifies the difference between these predictions and the actual target values. \n",
    "# The larger the difference, the higher the loss, indicating that the model is performing poorly.\n",
    "from matplotlib import pyplot as plt\n",
    "\n",
    "fig = plt.figure()\n",
    "plt.plot(hist.history['loss'], color='teal', label='loss') # Training Loss\n",
    "plt.plot(hist.history['val_loss'], color='orange', label='val_loss') # Validation Loss\n",
    "fig.suptitle('Loss', fontsize=20)\n",
    "plt.legend(loc=\"upper left\")\n",
    "plt.show()\n",
    "\n",
    "# Our validation loss is increasing so the model is overfitting here (as mentioned in the video)\n",
    "# Might need to perform some regularization as model is overfitting here"
   ]
  },
  {
   "cell_type": "code",
   "execution_count": 96,
   "id": "1d8ffa56",
   "metadata": {},
   "outputs": [
    {
     "data": {
      "image/png": "[encoded data removed]",
      "text/plain": [
       "<Figure size 640x480 with 1 Axes>"
      ]
     },
     "metadata": {},
     "output_type": "display_data"
    }
   ],
   "source": [
    "# Visualise the accuracy\n",
    "fig = plt.figure()\n",
    "plt.plot(hist.history['accuracy'], color='teal', label='accuracy')\n",
    "plt.plot(hist.history['val_accuracy'], color='orange', label='val_accuracy')\n",
    "fig.suptitle('Accuracy', fontsize=20)\n",
    "plt.legend(loc=\"upper left\")\n",
    "plt.show()"
   ]
  },
  {
   "cell_type": "code",
   "execution_count": 15,
   "id": "e07c8164",
   "metadata": {},
   "outputs": [],
   "source": [
    "# Save the model\n",
    "from tensorflow.keras.models import load_model\n",
    "# model.save(os.path.join('models\\\\Regularization', 'DorpoutTest4.keras'))"
   ]
  },
  {
   "cell_type": "markdown",
   "id": "cab7a524",
   "metadata": {},
   "source": [
    "# Making Predictions"
   ]
  },
  {
   "cell_type": "code",
   "execution_count": 334,
   "id": "eb83c813",
   "metadata": {},
   "outputs": [],
   "source": [
    "from tensorflow.keras.preprocessing.image import load_img, img_to_array"
   ]
  },
  {
   "cell_type": "code",
   "execution_count": 335,
   "id": "59475324",
   "metadata": {},
   "outputs": [
    {
     "name": "stdout",
     "output_type": "stream",
     "text": [
      "1/1 [==============================] - 1s 897ms/step\n"
     ]
    }
   ],
   "source": [
    "new_image_paths = ['C:\\\\Users\\\\usman\\\\ML\\\\BeeGPTModel\\\\TestPics\\\\Bluebell.jpg', 'C:\\\\Users\\\\usman\\\\ML\\\\BeeGPTModel\\\\TestPics\\\\Buttercup.jpg', 'C:\\\\Users\\\\usman\\\\ML\\\\BeeGPTModel\\\\TestPics\\\\Coltsfoot.jpg', 'C:\\\\Users\\\\usman\\\\ML\\\\BeeGPTModel\\\\TestPics\\\\Cowslip.jpg', 'C:\\\\Users\\\\usman\\\\ML\\\\BeeGPTModel\\\\TestPics\\\\Crocus.jpg', 'C:\\\\Users\\\\usman\\\\ML\\\\BeeGPTModel\\\\TestPics\\\\Daffodil.jpg', 'C:\\\\Users\\\\usman\\\\ML\\\\BeeGPTModel\\\\TestPics\\\\Daisy.jpg', 'C:\\\\Users\\\\usman\\\\ML\\\\BeeGPTModel\\\\TestPics\\\\Dandelion.jpg', 'C:\\\\Users\\\\usman\\\\ML\\\\BeeGPTModel\\\\TestPics\\\\Fritillary.jpg', 'C:\\\\Users\\\\usman\\\\ML\\\\BeeGPTModel\\\\TestPics\\\\Iris.jpg', 'C:\\\\Users\\\\usman\\\\ML\\\\BeeGPTModel\\\\TestPics\\\\LilValley.jpg', 'C:\\\\Users\\\\usman\\\\ML\\\\BeeGPTModel\\\\TestPics\\\\Pansy.jpg', 'C:\\\\Users\\\\usman\\\\ML\\\\BeeGPTModel\\\\TestPics\\\\Snowdrop.jpg', 'C:\\\\Users\\\\usman\\\\ML\\\\BeeGPTModel\\\\TestPics\\\\Sunflower.jpg', 'C:\\\\Users\\\\usman\\\\ML\\\\BeeGPTModel\\\\TestPics\\\\Tigerly.jpg', 'C:\\\\Users\\\\usman\\\\ML\\\\BeeGPTModel\\\\TestPics\\\\Tulip.jpg', 'C:\\\\Users\\\\usman\\\\ML\\\\BeeGPTModel\\\\TestPics\\\\Windflower.jpg']\n",
    "new_images = []  # Store preprocessed images here\n",
    "for image_path in new_image_paths:\n",
    "    new_image = load_img(image_path, target_size=image_size)\n",
    "    new_image = img_to_array(new_image)\n",
    "    new_image = new_image / 255.0\n",
    "    new_images.append(new_image)\n",
    "\n",
    "new_images = np.array(new_images)\n",
    "\n",
    "# Make predictions for all new images\n",
    "predictions = model.predict(new_images)"
   ]
  },
  {
   "cell_type": "code",
   "execution_count": 139,
   "id": "c7db65f5",
   "metadata": {},
   "outputs": [],
   "source": [
    "predicted_labels = np.argmax(predictions, axis=1)\n",
    "class_labels = list(label_to_index.keys())  # Get class labels from the label-to-index mapping\n",
    "predicted_classes = [class_labels[i] for i in predicted_labels]"
   ]
  },
  {
   "cell_type": "code",
   "execution_count": 140,
   "id": "d28cb95d",
   "metadata": {},
   "outputs": [
    {
     "name": "stdout",
     "output_type": "stream",
     "text": [
      "['Bluebell', 'Buttercup', 'Tulip', 'Cowslip', 'Bluebell', 'Cowslip', 'Crocus', 'Fritillary', 'Fritillary', 'Bluebell', 'Snowdrop', 'Crocus', 'Snowdrop', 'Cowslip', 'Tigerlily', 'Fritillary', 'Fritillary']\n"
     ]
    }
   ],
   "source": [
    "print(predicted_classes) ## Can't recognise tulips???"
   ]
  },
  {
   "cell_type": "code",
   "execution_count": null,
   "id": "157ed392",
   "metadata": {},
   "outputs": [],
   "source": []
  }
 ],
 "metadata": {
  "kernelspec": {
   "display_name": "Python 3 (ipykernel)",
   "language": "python",
   "name": "python3"
  },
  "language_info": {
   "codemirror_mode": {
    "name": "ipython",
    "version": 3
   },
   "file_extension": ".py",
   "mimetype": "text/x-python",
   "name": "python",
   "nbconvert_exporter": "python",
   "pygments_lexer": "ipython3",
   "version": "3.11.3"
  }
 },
 "nbformat": 4,
 "nbformat_minor": 5
}

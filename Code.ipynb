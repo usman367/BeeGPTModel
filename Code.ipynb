{
 "cells": [
  {
   "cell_type": "code",
   "execution_count": 3,
   "id": "f056d4e8",
   "metadata": {},
   "outputs": [],
   "source": [
    "import os\n",
    "import numpy as np\n",
    "import tensorflow as tf\n",
    "from tensorflow.keras.preprocessing.image import ImageDataGenerator\n",
    "from tensorflow.keras.layers import Input, Conv2D, MaxPooling2D, Flatten, Dense, Dropout\n",
    "from tensorflow.keras.models import Model\n",
    "from tensorflow.keras.optimizers import Adam\n",
    "from tensorflow.keras.regularizers import l2\n",
    "from sklearn.model_selection import train_test_split"
   ]
  },
  {
   "cell_type": "code",
   "execution_count": 136,
   "id": "8ef47c70",
   "metadata": {},
   "outputs": [],
   "source": [
    "data_dir = '17flowers'\n",
    "image_size = (128, 128) # Images will be resized to 128 by 128\n",
    "batch_size = 40\n",
    "num_classes = 17"
   ]
  },
  {
   "cell_type": "code",
   "execution_count": 137,
   "id": "bd97d074",
   "metadata": {},
   "outputs": [],
   "source": [
    "### DATA LOADING AND PREPROCESSING\n",
    "# Load the data and labels\n",
    "data = []\n",
    "labels = []\n",
    "class_names = sorted(os.listdir(os.path.join(data_dir))) # Read the class names\n",
    "# print(\"Class name: \", class_names)\n",
    "\n",
    "for class_name in class_names:\n",
    "    class_dir = os.path.join(data_dir, class_name) # Path to directory\n",
    "    for img_file in os.listdir(class_dir):\n",
    "        img_path = os.path.join(class_dir, img_file) # Path to the image\n",
    "        img = tf.keras.preprocessing.image.load_img(img_path, target_size=image_size) # Load and resize the image\n",
    "        img = tf.keras.preprocessing.image.img_to_array(img) # Convert the image to an array\n",
    "        \n",
    "        # Append the image and the class label to the respective lists\n",
    "        data.append(img)\n",
    "        labels.append(class_name)\n",
    "\n",
    "        \n",
    "data = np.array(data)\n",
    "# print(len(data))\n",
    "\n",
    "labels = np.array(labels)\n",
    "# print(\"Labels: \", labels)"
   ]
  },
  {
   "cell_type": "code",
   "execution_count": 138,
   "id": "125ded6f",
   "metadata": {},
   "outputs": [
    {
     "name": "stdout",
     "output_type": "stream",
     "text": [
      "label_to_index:  {'Bluebell': 0, 'Buttercup': 1, 'Coltsfoot': 2, 'Cowslip': 3, 'Crocus': 4, 'Daffodil': 5, 'Daisy': 6, 'Dandelion': 7, 'Fritillary': 8, 'Iris': 9, 'Lily Valley': 10, 'Pansy': 11, 'Snowdrop': 12, 'Sunflower': 13, 'Tigerlily': 14, 'Tulip': 15, 'Windflower': 16}\n",
      "labels:  [ 0  0  0 ... 16 16 16]\n",
      "labels length:  1360\n",
      "x_train size:  952\n",
      "x_temp size:  408\n",
      "x_val size:  204\n",
      "y_val size:  204\n"
     ]
    }
   ],
   "source": [
    "### DATA CONVERSION AND SPLITTING\n",
    "### Convert class names to integer labels\n",
    "# Create a mapping from class name to integer labels\n",
    "label_to_index = {label: i for i, label in enumerate(class_names)}\n",
    "print(\"label_to_index: \", label_to_index)\n",
    "\n",
    "# Converts class names to integer labels\n",
    "labels = np.array([label_to_index[label] for label in labels])\n",
    "print(\"labels: \", labels)\n",
    "print(\"labels length: \", len(labels))\n",
    "\n",
    "# Split data into training, validation, and testing sets\n",
    "# 70% will be used for training\n",
    "x_train, x_temp, y_train, y_temp = train_test_split(data, labels, test_size=0.3, random_state=42)\n",
    "print(\"x_train size: \", len(x_train))\n",
    "print(\"x_temp size: \", len(x_temp))\n",
    "\n",
    "\n",
    "# SPlit the data from above validations and testing (15% each now)\n",
    "x_val, x_test, y_val, y_test = train_test_split(x_temp, y_temp, test_size=0.5, random_state=42)\n",
    "print(\"x_val size: \", len(x_val))\n",
    "print(\"y_val size: \", len(y_val))\n"
   ]
  },
  {
   "cell_type": "code",
   "execution_count": 139,
   "id": "9ed0c05b",
   "metadata": {},
   "outputs": [
    {
     "name": "stdout",
     "output_type": "stream",
     "text": [
      "y_train:  [[0. 0. 0. ... 0. 0. 0.]\n",
      " [0. 0. 0. ... 0. 0. 0.]\n",
      " [0. 0. 0. ... 0. 0. 0.]\n",
      " ...\n",
      " [0. 0. 0. ... 0. 0. 1.]\n",
      " [0. 0. 0. ... 0. 0. 0.]\n",
      " [0. 0. 0. ... 1. 0. 0.]]\n"
     ]
    }
   ],
   "source": [
    "# Convert integer labels to one-hot encoded labels\n",
    "# To respresent class labels as categorical vectors\n",
    "y_train = tf.keras.utils.to_categorical(y_train, num_classes)\n",
    "y_val = tf.keras.utils.to_categorical(y_val, num_classes)\n",
    "y_test = tf.keras.utils.to_categorical(y_test, num_classes)\n",
    "\n",
    "print(\"y_train: \", y_train)"
   ]
  },
  {
   "cell_type": "code",
   "execution_count": 140,
   "id": "a355e3d1",
   "metadata": {},
   "outputs": [
    {
     "name": "stdout",
     "output_type": "stream",
     "text": [
      "Shape of batch: (128, 3)\n",
      "Image size (height x width x channels): 128 x 128 x 3\n",
      "Height of the images in the first batch: 40\n"
     ]
    }
   ],
   "source": [
    "# Create an iterator for the dataset\n",
    "train_iterator = iter(x_train)\n",
    "\n",
    "# Get the first batch\n",
    "first_batch = next(train_iterator)\n",
    "\n",
    "batch_shape = first_batch[0].shape\n",
    "print(\"Shape of batch:\", batch_shape)\n",
    "\n",
    "# Get the size (dimensions) of the first image\n",
    "image_height, image_width, num_channels = first_batch.shape\n",
    "print(\"Image size (height x width x channels):\", image_height, \"x\", image_width, \"x\", num_channels)\n",
    "\n",
    "# Check the size of the first batch\n",
    "batch_height = len(first_batch[0])  # Assuming the first element of the batch is the images\n",
    "print(\"Height of the images in the first batch:\", batch_size)\n"
   ]
  },
  {
   "cell_type": "code",
   "execution_count": 141,
   "id": "e6278846",
   "metadata": {},
   "outputs": [],
   "source": [
    "### DATA NORMALIZATION\n",
    "# The RGB channel values are in the [0, 255] range.\n",
    "# This is not ideal for a neural network\n",
    "# Normalize the pixel values to [0, 1]\n",
    "\n",
    "# print (x_train)\n",
    "x_train = x_train / 255.0\n",
    "x_val = x_val / 255.0\n",
    "x_test = x_test / 255.0\n",
    "# print (x_train)"
   ]
  },
  {
   "cell_type": "code",
   "execution_count": 142,
   "id": "4a90c4b9",
   "metadata": {},
   "outputs": [
    {
     "name": "stdout",
     "output_type": "stream",
     "text": [
      "Model: \"model_11\"\n",
      "_________________________________________________________________\n",
      " Layer (type)                Output Shape              Param #   \n",
      "=================================================================\n",
      " input_12 (InputLayer)       [(None, 128, 128, 3)]     0         \n",
      "                                                                 \n",
      " conv2d_33 (Conv2D)          (None, 126, 126, 32)      896       \n",
      "                                                                 \n",
      " max_pooling2d_33 (MaxPooli  (None, 31, 31, 32)        0         \n",
      " ng2D)                                                           \n",
      "                                                                 \n",
      " conv2d_34 (Conv2D)          (None, 29, 29, 64)        18496     \n",
      "                                                                 \n",
      " max_pooling2d_34 (MaxPooli  (None, 7, 7, 64)          0         \n",
      " ng2D)                                                           \n",
      "                                                                 \n",
      " conv2d_35 (Conv2D)          (None, 5, 5, 128)         73856     \n",
      "                                                                 \n",
      " max_pooling2d_35 (MaxPooli  (None, 1, 1, 128)         0         \n",
      " ng2D)                                                           \n",
      "                                                                 \n",
      " flatten_11 (Flatten)        (None, 128)               0         \n",
      "                                                                 \n",
      " dense_22 (Dense)            (None, 128)               16512     \n",
      "                                                                 \n",
      " dense_23 (Dense)            (None, 17)                2193      \n",
      "                                                                 \n",
      "=================================================================\n",
      "Total params: 111953 (437.32 KB)\n",
      "Trainable params: 111953 (437.32 KB)\n",
      "Non-trainable params: 0 (0.00 Byte)\n",
      "_________________________________________________________________\n"
     ]
    }
   ],
   "source": [
    "# Build the model with regularization\n",
    "inputs = Input(shape=(image_size[0], image_size[1], 3))\n",
    "x = Conv2D(32, (3, 3), activation='relu')(inputs)\n",
    "x = MaxPooling2D((4, 4))(x)\n",
    "x = Conv2D(64, (3, 3), activation='relu')(x)\n",
    "x = MaxPooling2D((4, 4))(x)\n",
    "x = Conv2D(128, (3, 3), activation='relu')(x)\n",
    "x = MaxPooling2D((4, 4))(x)\n",
    "x = Flatten()(x)\n",
    "x = Dense(128, activation='relu')(x)\n",
    "outputs = Dense(num_classes, activation='softmax')(x)\n",
    "\n",
    "model = Model(inputs=inputs, outputs=outputs)\n",
    "model.summary()"
   ]
  },
  {
   "cell_type": "code",
   "execution_count": 143,
   "id": "104aff80",
   "metadata": {},
   "outputs": [],
   "source": [
    "# Compile the model using Adam optimizer\n",
    "model.compile(optimizer=Adam(learning_rate=0.001),\n",
    "              loss='categorical_crossentropy',\n",
    "              metrics=['accuracy'])"
   ]
  },
  {
   "cell_type": "code",
   "execution_count": 144,
   "id": "d33c4b7a",
   "metadata": {
    "scrolled": true
   },
   "outputs": [
    {
     "name": "stdout",
     "output_type": "stream",
     "text": [
      "Epoch 1/25\n",
      "24/24 [==============================] - 11s 284ms/step - loss: 2.7522 - accuracy: 0.0998 - val_loss: 2.5847 - val_accuracy: 0.1422\n",
      "Epoch 2/25\n",
      "24/24 [==============================] - 6s 256ms/step - loss: 2.3187 - accuracy: 0.1828 - val_loss: 2.2353 - val_accuracy: 0.2402\n",
      "Epoch 3/25\n",
      "24/24 [==============================] - 6s 259ms/step - loss: 2.0915 - accuracy: 0.2773 - val_loss: 2.0448 - val_accuracy: 0.2500\n",
      "Epoch 4/25\n",
      "24/24 [==============================] - 6s 267ms/step - loss: 1.8790 - accuracy: 0.3687 - val_loss: 1.9201 - val_accuracy: 0.2941\n",
      "Epoch 5/25\n",
      "24/24 [==============================] - 6s 266ms/step - loss: 1.6521 - accuracy: 0.4286 - val_loss: 1.6504 - val_accuracy: 0.3922\n",
      "Epoch 6/25\n",
      "24/24 [==============================] - 6s 270ms/step - loss: 1.4686 - accuracy: 0.4926 - val_loss: 1.6274 - val_accuracy: 0.4510\n",
      "Epoch 7/25\n",
      "24/24 [==============================] - 6s 262ms/step - loss: 1.3650 - accuracy: 0.5231 - val_loss: 1.4251 - val_accuracy: 0.4902\n",
      "Epoch 8/25\n",
      "24/24 [==============================] - 6s 269ms/step - loss: 1.2130 - accuracy: 0.5966 - val_loss: 1.4315 - val_accuracy: 0.4853\n",
      "Epoch 9/25\n",
      "24/24 [==============================] - 6s 257ms/step - loss: 1.1375 - accuracy: 0.6029 - val_loss: 1.2714 - val_accuracy: 0.5588\n",
      "Epoch 10/25\n",
      "24/24 [==============================] - 6s 269ms/step - loss: 1.0259 - accuracy: 0.6576 - val_loss: 1.1981 - val_accuracy: 0.5392\n",
      "Epoch 11/25\n",
      "24/24 [==============================] - 6s 266ms/step - loss: 0.9628 - accuracy: 0.6807 - val_loss: 1.1483 - val_accuracy: 0.6029\n",
      "Epoch 12/25\n",
      "24/24 [==============================] - 6s 263ms/step - loss: 0.8931 - accuracy: 0.7006 - val_loss: 1.1482 - val_accuracy: 0.6078\n",
      "Epoch 13/25\n",
      "24/24 [==============================] - 6s 266ms/step - loss: 0.8475 - accuracy: 0.7185 - val_loss: 1.1571 - val_accuracy: 0.6127\n",
      "Epoch 14/25\n",
      "24/24 [==============================] - 7s 282ms/step - loss: 0.8117 - accuracy: 0.7216 - val_loss: 1.0494 - val_accuracy: 0.6127\n",
      "Epoch 15/25\n",
      "24/24 [==============================] - 7s 285ms/step - loss: 0.7414 - accuracy: 0.7458 - val_loss: 1.0960 - val_accuracy: 0.5882\n",
      "Epoch 16/25\n",
      "24/24 [==============================] - 7s 274ms/step - loss: 0.6472 - accuracy: 0.7794 - val_loss: 0.9809 - val_accuracy: 0.6765\n",
      "Epoch 17/25\n",
      "24/24 [==============================] - 7s 288ms/step - loss: 0.5930 - accuracy: 0.8172 - val_loss: 1.0097 - val_accuracy: 0.6324\n",
      "Epoch 18/25\n",
      "24/24 [==============================] - 7s 277ms/step - loss: 0.5759 - accuracy: 0.8130 - val_loss: 0.8707 - val_accuracy: 0.6863\n",
      "Epoch 19/25\n",
      "24/24 [==============================] - 6s 266ms/step - loss: 0.5093 - accuracy: 0.8277 - val_loss: 0.9074 - val_accuracy: 0.6569\n",
      "Epoch 20/25\n",
      "24/24 [==============================] - 6s 266ms/step - loss: 0.4536 - accuracy: 0.8613 - val_loss: 0.9292 - val_accuracy: 0.6912\n",
      "Epoch 21/25\n",
      "24/24 [==============================] - 6s 267ms/step - loss: 0.4506 - accuracy: 0.8540 - val_loss: 0.9510 - val_accuracy: 0.6716\n",
      "Epoch 22/25\n",
      "24/24 [==============================] - 6s 265ms/step - loss: 0.4306 - accuracy: 0.8529 - val_loss: 0.9537 - val_accuracy: 0.6765\n",
      "Epoch 23/25\n",
      "24/24 [==============================] - 6s 260ms/step - loss: 0.4012 - accuracy: 0.8708 - val_loss: 0.8869 - val_accuracy: 0.7206\n",
      "Epoch 24/25\n",
      "24/24 [==============================] - 6s 262ms/step - loss: 0.3332 - accuracy: 0.8929 - val_loss: 0.9442 - val_accuracy: 0.6912\n",
      "Epoch 25/25\n",
      "24/24 [==============================] - 6s 262ms/step - loss: 0.2957 - accuracy: 0.9044 - val_loss: 0.7886 - val_accuracy: 0.7206\n"
     ]
    }
   ],
   "source": [
    "# Train the model\n",
    "epochs = 25\n",
    "hist = model.fit(x_train, y_train,\n",
    "          validation_data=(x_val, y_val),\n",
    "          batch_size=batch_size,\n",
    "          epochs=epochs)"
   ]
  },
  {
   "cell_type": "markdown",
   "id": "0cfc15d9",
   "metadata": {},
   "source": [
    "# Plot Accuracy"
   ]
  },
  {
   "cell_type": "code",
   "execution_count": 145,
   "id": "1eb9eaaf",
   "metadata": {},
   "outputs": [
    {
     "data": {
      "image/png": "[encoded data removed]",
      "text/plain": [
       "<Figure size 640x480 with 1 Axes>"
      ]
     },
     "metadata": {},
     "output_type": "display_data"
    }
   ],
   "source": [
    "# Visualise our loss\n",
    "# Loss: measure of how well a model's predictions match the true target values in the training dataset. \n",
    "# The goal of training a machine learning model is to minimize the loss function, as this indicates that the model is making more accurate predictions.\n",
    "# When training a model, it starts with some initial set of parameters (weights and biases) and makes predictions on the training data. \n",
    "# The loss function then quantifies the difference between these predictions and the actual target values. \n",
    "# The larger the difference, the higher the loss, indicating that the model is performing poorly.\n",
    "from matplotlib import pyplot as plt\n",
    "\n",
    "fig = plt.figure()\n",
    "plt.plot(hist.history['loss'], color='teal', label='loss') # Training Loss\n",
    "plt.plot(hist.history['val_loss'], color='orange', label='val_loss') # Validation Loss\n",
    "fig.suptitle('Loss', fontsize=20)\n",
    "plt.legend(loc=\"upper left\")\n",
    "plt.show()\n",
    "\n",
    "# Our validation loss is increasing so the model is overfitting here (as mentioned in the video)\n",
    "# Might need to perform some regularization as model is overfitting here"
   ]
  },
  {
   "cell_type": "code",
   "execution_count": 146,
   "id": "1d8ffa56",
   "metadata": {},
   "outputs": [
    {
     "data": {
      "image/png": "[encoded data removed]",
      "text/plain": [
       "<Figure size 640x480 with 1 Axes>"
      ]
     },
     "metadata": {},
     "output_type": "display_data"
    }
   ],
   "source": [
    "# Visualise the accuracy\n",
    "fig = plt.figure()\n",
    "plt.plot(hist.history['accuracy'], color='teal', label='accuracy')\n",
    "plt.plot(hist.history['val_accuracy'], color='orange', label='val_accuracy')\n",
    "fig.suptitle('Accuracy', fontsize=20)\n",
    "plt.legend(loc=\"upper left\")\n",
    "plt.show()"
   ]
  },
  {
   "cell_type": "code",
   "execution_count": 147,
   "id": "e07c8164",
   "metadata": {},
   "outputs": [],
   "source": [
    "# Save the model\n",
    "from tensorflow.keras.models import load_model\n",
    "model.save(os.path.join('models\\\\AllMpsIncreadToFour', 'AllMPsIncreasedFour15.keras'))"
   ]
  },
  {
   "cell_type": "markdown",
   "id": "cab7a524",
   "metadata": {},
   "source": [
    "# Making Predictions"
   ]
  },
  {
   "cell_type": "code",
   "execution_count": 553,
   "id": "eb83c813",
   "metadata": {},
   "outputs": [],
   "source": [
    "from tensorflow.keras.preprocessing.image import load_img, img_to_array"
   ]
  },
  {
   "cell_type": "code",
   "execution_count": 138,
   "id": "59475324",
   "metadata": {},
   "outputs": [
    {
     "name": "stdout",
     "output_type": "stream",
     "text": [
      "1/1 [==============================] - 0s 232ms/step\n"
     ]
    }
   ],
   "source": [
    "new_image_paths = ['C:\\\\Users\\\\usman\\\\ML\\\\BeeGPTModel\\\\TestPics\\\\Bluebell.jpg', 'C:\\\\Users\\\\usman\\\\ML\\\\BeeGPTModel\\\\TestPics\\\\Buttercup.jpg', 'C:\\\\Users\\\\usman\\\\ML\\\\BeeGPTModel\\\\TestPics\\\\Coltsfoot.jpg', 'C:\\\\Users\\\\usman\\\\ML\\\\BeeGPTModel\\\\TestPics\\\\Cowslip.jpg', 'C:\\\\Users\\\\usman\\\\ML\\\\BeeGPTModel\\\\TestPics\\\\Crocus.jpg', 'C:\\\\Users\\\\usman\\\\ML\\\\BeeGPTModel\\\\TestPics\\\\Daffodil.jpg', 'C:\\\\Users\\\\usman\\\\ML\\\\BeeGPTModel\\\\TestPics\\\\Daisy.jpg', 'C:\\\\Users\\\\usman\\\\ML\\\\BeeGPTModel\\\\TestPics\\\\Dandelion.jpg', 'C:\\\\Users\\\\usman\\\\ML\\\\BeeGPTModel\\\\TestPics\\\\Fritillary.jpg', 'C:\\\\Users\\\\usman\\\\ML\\\\BeeGPTModel\\\\TestPics\\\\Iris.jpg', 'C:\\\\Users\\\\usman\\\\ML\\\\BeeGPTModel\\\\TestPics\\\\LilValley.jpg', 'C:\\\\Users\\\\usman\\\\ML\\\\BeeGPTModel\\\\TestPics\\\\Pansy.jpg', 'C:\\\\Users\\\\usman\\\\ML\\\\BeeGPTModel\\\\TestPics\\\\Snowdrop.jpg', 'C:\\\\Users\\\\usman\\\\ML\\\\BeeGPTModel\\\\TestPics\\\\Sunflower.jpg', 'C:\\\\Users\\\\usman\\\\ML\\\\BeeGPTModel\\\\TestPics\\\\Tigerly.jpg', 'C:\\\\Users\\\\usman\\\\ML\\\\BeeGPTModel\\\\TestPics\\\\Tulip.jpg', 'C:\\\\Users\\\\usman\\\\ML\\\\BeeGPTModel\\\\TestPics\\\\Windflower.jpg']\n",
    "new_images = []  # Store preprocessed images here\n",
    "for image_path in new_image_paths:\n",
    "    new_image = load_img(image_path, target_size=image_size)\n",
    "    new_image = img_to_array(new_image)\n",
    "    new_image = new_image / 255.0\n",
    "    new_images.append(new_image)\n",
    "\n",
    "new_images = np.array(new_images)\n",
    "\n",
    "# Make predictions for all new images\n",
    "predictions = model.predict(new_images)"
   ]
  },
  {
   "cell_type": "code",
   "execution_count": 139,
   "id": "c7db65f5",
   "metadata": {},
   "outputs": [],
   "source": [
    "predicted_labels = np.argmax(predictions, axis=1)\n",
    "class_labels = list(label_to_index.keys())  # Get class labels from the label-to-index mapping\n",
    "predicted_classes = [class_labels[i] for i in predicted_labels]"
   ]
  },
  {
   "cell_type": "code",
   "execution_count": 140,
   "id": "d28cb95d",
   "metadata": {},
   "outputs": [
    {
     "name": "stdout",
     "output_type": "stream",
     "text": [
      "['Bluebell', 'Buttercup', 'Tulip', 'Cowslip', 'Bluebell', 'Cowslip', 'Crocus', 'Fritillary', 'Fritillary', 'Bluebell', 'Snowdrop', 'Crocus', 'Snowdrop', 'Cowslip', 'Tigerlily', 'Fritillary', 'Fritillary']\n"
     ]
    }
   ],
   "source": [
    "print(predicted_classes) ## Can't recognise tulips???"
   ]
  },
  {
   "cell_type": "code",
   "execution_count": null,
   "id": "157ed392",
   "metadata": {},
   "outputs": [],
   "source": []
  }
 ],
 "metadata": {
  "kernelspec": {
   "display_name": "Python 3 (ipykernel)",
   "language": "python",
   "name": "python3"
  },
  "language_info": {
   "codemirror_mode": {
    "name": "ipython",
    "version": 3
   },
   "file_extension": ".py",
   "mimetype": "text/x-python",
   "name": "python",
   "nbconvert_exporter": "python",
   "pygments_lexer": "ipython3",
   "version": "3.11.3"
  }
 },
 "nbformat": 4,
 "nbformat_minor": 5
}

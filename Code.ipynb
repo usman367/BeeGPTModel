{
 "cells": [
  {
   "cell_type": "code",
   "execution_count": 85,
   "id": "d6136574",
   "metadata": {},
   "outputs": [],
   "source": [
    "import os\n",
    "import numpy as np\n",
    "import tensorflow as tf\n",
    "from tensorflow.keras.preprocessing.image import ImageDataGenerator\n",
    "from tensorflow.keras.layers import Input, Conv2D, MaxPooling2D, Flatten, Dense, Dropout\n",
    "from tensorflow.keras.models import Model\n",
    "from tensorflow.keras.optimizers import Adam\n",
    "from tensorflow.keras.regularizers import l2\n",
    "from sklearn.model_selection import train_test_split"
   ]
  },
  {
   "cell_type": "code",
   "execution_count": 111,
   "id": "d6cbe3c2",
   "metadata": {},
   "outputs": [],
   "source": [
    "data_dir = '17flowers'\n",
    "image_size = (128, 128) # Images will be resized to 128 by 128\n",
    "batch_size = 40\n",
    "num_classes = 17"
   ]
  },
  {
   "cell_type": "code",
   "execution_count": 112,
   "id": "f6eac350",
   "metadata": {},
   "outputs": [],
   "source": [
    "### DATA LOADING AND PREPROCESSING\n",
    "# Load the data and labels\n",
    "data = []\n",
    "labels = []\n",
    "class_names = sorted(os.listdir(os.path.join(data_dir))) # Read the class names\n",
    "# print(\"Class name: \", class_names)\n",
    "\n",
    "for class_name in class_names:\n",
    "    class_dir = os.path.join(data_dir, class_name) # Path to directory\n",
    "    for img_file in os.listdir(class_dir):\n",
    "        img_path = os.path.join(class_dir, img_file) # Path to the image\n",
    "        img = tf.keras.preprocessing.image.load_img(img_path, target_size=image_size) # Load and resize the image\n",
    "        img = tf.keras.preprocessing.image.img_to_array(img) # Convert the image to an array\n",
    "        \n",
    "        # Append the image and the class label to the respective lists\n",
    "        data.append(img)\n",
    "        labels.append(class_name)\n",
    "\n",
    "        \n",
    "data = np.array(data)\n",
    "# print(len(data))\n",
    "\n",
    "labels = np.array(labels)\n",
    "# print(\"Labels: \", labels)"
   ]
  },
  {
   "cell_type": "code",
   "execution_count": 113,
   "id": "6fe4e068",
   "metadata": {},
   "outputs": [
    {
     "name": "stdout",
     "output_type": "stream",
     "text": [
      "label_to_index:  {'Bluebell': 0, 'Buttercup': 1, 'Coltsfoot': 2, 'Cowslip': 3, 'Crocus': 4, 'Daffodil': 5, 'Daisy': 6, 'Dandelion': 7, 'Fritillary': 8, 'Iris': 9, 'Lily Valley': 10, 'Pansy': 11, 'Snowdrop': 12, 'Sunflower': 13, 'Tigerlily': 14, 'Tulip': 15, 'Windflower': 16}\n",
      "labels:  [ 0  0  0 ... 16 16 16]\n",
      "labels length:  1360\n",
      "x_train size:  952\n",
      "x_temp size:  408\n",
      "x_val size:  204\n",
      "y_val size:  204\n"
     ]
    }
   ],
   "source": [
    "### DATA CONVERSION AND SPLITTING\n",
    "### Convert class names to integer labels\n",
    "# Create a mapping from class name to integer labels\n",
    "label_to_index = {label: i for i, label in enumerate(class_names)}\n",
    "print(\"label_to_index: \", label_to_index)\n",
    "\n",
    "# Converts class names to integer labels\n",
    "labels = np.array([label_to_index[label] for label in labels])\n",
    "print(\"labels: \", labels)\n",
    "print(\"labels length: \", len(labels))\n",
    "\n",
    "# Split data into training, validation, and testing sets\n",
    "# 70% will be used for training\n",
    "x_train, x_temp, y_train, y_temp = train_test_split(data, labels, test_size=0.3, random_state=42)\n",
    "print(\"x_train size: \", len(x_train))\n",
    "print(\"x_temp size: \", len(x_temp))\n",
    "\n",
    "\n",
    "# SPlit the data from above validations and testing (15% each now)\n",
    "x_val, x_test, y_val, y_test = train_test_split(x_temp, y_temp, test_size=0.5, random_state=42)\n",
    "print(\"x_val size: \", len(x_val))\n",
    "print(\"y_val size: \", len(y_val))\n"
   ]
  },
  {
   "cell_type": "code",
   "execution_count": 114,
   "id": "ce61cd36",
   "metadata": {},
   "outputs": [
    {
     "name": "stdout",
     "output_type": "stream",
     "text": [
      "y_train:  [[0. 0. 0. ... 0. 0. 0.]\n",
      " [0. 0. 0. ... 0. 0. 0.]\n",
      " [0. 0. 0. ... 0. 0. 0.]\n",
      " ...\n",
      " [0. 0. 0. ... 0. 0. 1.]\n",
      " [0. 0. 0. ... 0. 0. 0.]\n",
      " [0. 0. 0. ... 1. 0. 0.]]\n"
     ]
    }
   ],
   "source": [
    "# Convert integer labels to one-hot encoded labels\n",
    "# To respresent class labels as categorical vectors\n",
    "y_train = tf.keras.utils.to_categorical(y_train, num_classes)\n",
    "y_val = tf.keras.utils.to_categorical(y_val, num_classes)\n",
    "y_test = tf.keras.utils.to_categorical(y_test, num_classes)\n",
    "\n",
    "print(\"y_train: \", y_train)"
   ]
  },
  {
   "cell_type": "code",
   "execution_count": 115,
   "id": "ae7e0fa9",
   "metadata": {},
   "outputs": [
    {
     "name": "stdout",
     "output_type": "stream",
     "text": [
      "Shape of batch: (128, 3)\n",
      "Image size (height x width x channels): 128 x 128 x 3\n",
      "Height of the images in the first batch: 40\n"
     ]
    }
   ],
   "source": [
    "# Create an iterator for the dataset\n",
    "train_iterator = iter(x_train)\n",
    "\n",
    "# Get the first batch\n",
    "first_batch = next(train_iterator)\n",
    "\n",
    "batch_shape = first_batch[0].shape\n",
    "print(\"Shape of batch:\", batch_shape)\n",
    "\n",
    "# Get the size (dimensions) of the first image\n",
    "image_height, image_width, num_channels = first_batch.shape\n",
    "print(\"Image size (height x width x channels):\", image_height, \"x\", image_width, \"x\", num_channels)\n",
    "\n",
    "# Check the size of the first batch\n",
    "batch_height = len(first_batch[0])  # Assuming the first element of the batch is the images\n",
    "print(\"Height of the images in the first batch:\", batch_size)\n"
   ]
  },
  {
   "cell_type": "code",
   "execution_count": 116,
   "id": "01fbceb4",
   "metadata": {},
   "outputs": [],
   "source": [
    "### DATA NORMALIZATION\n",
    "# The RGB channel values are in the [0, 255] range.\n",
    "# This is not ideal for a neural network\n",
    "# Normalize the pixel values to [0, 1]\n",
    "\n",
    "# print (x_train)\n",
    "x_train = x_train / 255.0\n",
    "x_val = x_val / 255.0\n",
    "x_test = x_test / 255.0\n",
    "# print (x_train)"
   ]
  },
  {
   "cell_type": "code",
   "execution_count": 120,
   "id": "a10fd4fd",
   "metadata": {},
   "outputs": [
    {
     "name": "stdout",
     "output_type": "stream",
     "text": [
      "Model: \"model_2\"\n",
      "_________________________________________________________________\n",
      " Layer (type)                Output Shape              Param #   \n",
      "=================================================================\n",
      " input_3 (InputLayer)        [(None, 128, 128, 3)]     0         \n",
      "                                                                 \n",
      " conv2d_6 (Conv2D)           (None, 126, 126, 32)      896       \n",
      "                                                                 \n",
      " max_pooling2d_6 (MaxPoolin  (None, 42, 42, 32)        0         \n",
      " g2D)                                                            \n",
      "                                                                 \n",
      " conv2d_7 (Conv2D)           (None, 40, 40, 64)        18496     \n",
      "                                                                 \n",
      " max_pooling2d_7 (MaxPoolin  (None, 13, 13, 64)        0         \n",
      " g2D)                                                            \n",
      "                                                                 \n",
      " conv2d_8 (Conv2D)           (None, 11, 11, 128)       73856     \n",
      "                                                                 \n",
      " max_pooling2d_8 (MaxPoolin  (None, 3, 3, 128)         0         \n",
      " g2D)                                                            \n",
      "                                                                 \n",
      " flatten_2 (Flatten)         (None, 1152)              0         \n",
      "                                                                 \n",
      " dense_4 (Dense)             (None, 128)               147584    \n",
      "                                                                 \n",
      " dense_5 (Dense)             (None, 17)                2193      \n",
      "                                                                 \n",
      "=================================================================\n",
      "Total params: 243025 (949.32 KB)\n",
      "Trainable params: 243025 (949.32 KB)\n",
      "Non-trainable params: 0 (0.00 Byte)\n",
      "_________________________________________________________________\n"
     ]
    }
   ],
   "source": [
    "# Build the model with regularization\n",
    "inputs = Input(shape=(image_size[0], image_size[1], 3))\n",
    "x = Conv2D(32, (3, 3), activation='relu')(inputs)\n",
    "x = MaxPooling2D((3, 3))(x)\n",
    "x = Conv2D(64, (3, 3), activation='relu')(x)\n",
    "x = MaxPooling2D((3, 3))(x)\n",
    "x = Conv2D(128, (3, 3), activation='relu')(x)\n",
    "x = MaxPooling2D((3, 3))(x)\n",
    "x = Flatten()(x)\n",
    "x = Dense(128, activation='relu')(x)\n",
    "outputs = Dense(num_classes, activation='softmax')(x)\n",
    "\n",
    "model = Model(inputs=inputs, outputs=outputs)\n",
    "model.summary()"
   ]
  },
  {
   "cell_type": "code",
   "execution_count": 121,
   "id": "9089b3a4",
   "metadata": {},
   "outputs": [],
   "source": [
    "# Compile the model using Adam optimizer\n",
    "model.compile(optimizer=Adam(learning_rate=0.001),\n",
    "              loss='categorical_crossentropy',\n",
    "              metrics=['accuracy'])"
   ]
  },
  {
   "cell_type": "code",
   "execution_count": 122,
   "id": "e0b95ab5",
   "metadata": {
    "scrolled": true
   },
   "outputs": [
    {
     "name": "stdout",
     "output_type": "stream",
     "text": [
      "Epoch 1/20\n",
      "24/24 [==============================] - 9s 293ms/step - loss: 2.7542 - accuracy: 0.0945 - val_loss: 2.5370 - val_accuracy: 0.1176\n",
      "Epoch 2/20\n",
      "24/24 [==============================] - 6s 265ms/step - loss: 2.2206 - accuracy: 0.2511 - val_loss: 2.2589 - val_accuracy: 0.2892\n",
      "Epoch 3/20\n",
      "24/24 [==============================] - 6s 258ms/step - loss: 1.8836 - accuracy: 0.3561 - val_loss: 1.9054 - val_accuracy: 0.3922\n",
      "Epoch 4/20\n",
      "24/24 [==============================] - 6s 263ms/step - loss: 1.6425 - accuracy: 0.4307 - val_loss: 1.7280 - val_accuracy: 0.4069\n",
      "Epoch 5/20\n",
      "24/24 [==============================] - 6s 252ms/step - loss: 1.3968 - accuracy: 0.5252 - val_loss: 1.5893 - val_accuracy: 0.4265\n",
      "Epoch 6/20\n",
      "24/24 [==============================] - 6s 261ms/step - loss: 1.3537 - accuracy: 0.5389 - val_loss: 1.4331 - val_accuracy: 0.5588\n",
      "Epoch 7/20\n",
      "24/24 [==============================] - 6s 259ms/step - loss: 1.1190 - accuracy: 0.6292 - val_loss: 1.4988 - val_accuracy: 0.5147\n",
      "Epoch 8/20\n",
      "24/24 [==============================] - 6s 266ms/step - loss: 0.9628 - accuracy: 0.6712 - val_loss: 1.2413 - val_accuracy: 0.5980\n",
      "Epoch 9/20\n",
      "24/24 [==============================] - 6s 262ms/step - loss: 0.8776 - accuracy: 0.6943 - val_loss: 1.4014 - val_accuracy: 0.5980\n",
      "Epoch 10/20\n",
      "24/24 [==============================] - 6s 263ms/step - loss: 0.7737 - accuracy: 0.7342 - val_loss: 1.1394 - val_accuracy: 0.6471\n",
      "Epoch 11/20\n",
      "24/24 [==============================] - 6s 261ms/step - loss: 0.6794 - accuracy: 0.7658 - val_loss: 1.1936 - val_accuracy: 0.6078\n",
      "Epoch 12/20\n",
      "24/24 [==============================] - 6s 261ms/step - loss: 0.6122 - accuracy: 0.8099 - val_loss: 1.1371 - val_accuracy: 0.6176\n",
      "Epoch 13/20\n",
      "24/24 [==============================] - 6s 259ms/step - loss: 0.4688 - accuracy: 0.8382 - val_loss: 1.1062 - val_accuracy: 0.6569\n",
      "Epoch 14/20\n",
      "24/24 [==============================] - 6s 265ms/step - loss: 0.4219 - accuracy: 0.8824 - val_loss: 1.0448 - val_accuracy: 0.6667\n",
      "Epoch 15/20\n",
      "24/24 [==============================] - 7s 273ms/step - loss: 0.3573 - accuracy: 0.8834 - val_loss: 1.1406 - val_accuracy: 0.7010\n",
      "Epoch 16/20\n",
      "24/24 [==============================] - 6s 254ms/step - loss: 0.3425 - accuracy: 0.8929 - val_loss: 1.1598 - val_accuracy: 0.6716\n",
      "Epoch 17/20\n",
      "24/24 [==============================] - 6s 261ms/step - loss: 0.2819 - accuracy: 0.9128 - val_loss: 1.0842 - val_accuracy: 0.6569\n",
      "Epoch 18/20\n",
      "24/24 [==============================] - 6s 260ms/step - loss: 0.1844 - accuracy: 0.9464 - val_loss: 1.1707 - val_accuracy: 0.6716\n",
      "Epoch 19/20\n",
      "24/24 [==============================] - 6s 256ms/step - loss: 0.1570 - accuracy: 0.9548 - val_loss: 1.1622 - val_accuracy: 0.6863\n",
      "Epoch 20/20\n",
      "24/24 [==============================] - 6s 254ms/step - loss: 0.1939 - accuracy: 0.9412 - val_loss: 1.2246 - val_accuracy: 0.6814\n"
     ]
    }
   ],
   "source": [
    "# Train the model\n",
    "epochs = 20\n",
    "hist = model.fit(x_train, y_train,\n",
    "          validation_data=(x_val, y_val),\n",
    "          batch_size=batch_size,\n",
    "          epochs=epochs)"
   ]
  },
  {
   "cell_type": "markdown",
   "id": "ccdd637c",
   "metadata": {},
   "source": [
    "# Plot Accuracy"
   ]
  },
  {
   "cell_type": "code",
   "execution_count": 123,
   "id": "01f4260b",
   "metadata": {},
   "outputs": [
    {
     "data": {
      "image/png": "[encoded data removed]",
      "text/plain": [
       "<Figure size 640x480 with 1 Axes>"
      ]
     },
     "metadata": {},
     "output_type": "display_data"
    }
   ],
   "source": [
    "# Visualise our loss\n",
    "# Loss: measure of how well a model's predictions match the true target values in the training dataset. \n",
    "# The goal of training a machine learning model is to minimize the loss function, as this indicates that the model is making more accurate predictions.\n",
    "# When training a model, it starts with some initial set of parameters (weights and biases) and makes predictions on the training data. \n",
    "# The loss function then quantifies the difference between these predictions and the actual target values. \n",
    "# The larger the difference, the higher the loss, indicating that the model is performing poorly.\n",
    "from matplotlib import pyplot as plt\n",
    "\n",
    "fig = plt.figure()\n",
    "plt.plot(hist.history['loss'], color='teal', label='loss') # Training Loss\n",
    "plt.plot(hist.history['val_loss'], color='orange', label='val_loss') # Validation Loss\n",
    "fig.suptitle('Loss', fontsize=20)\n",
    "plt.legend(loc=\"upper left\")\n",
    "plt.show()\n",
    "\n",
    "# Our validation loss is increasing so the model is overfitting here (as mentioned in the video)\n",
    "# Might need to perform some regularization as model is overfitting here"
   ]
  },
  {
   "cell_type": "code",
   "execution_count": 124,
   "id": "3526613a",
   "metadata": {},
   "outputs": [
    {
     "data": {
      "image/png": "[encoded data removed]",
      "text/plain": [
       "<Figure size 640x480 with 1 Axes>"
      ]
     },
     "metadata": {},
     "output_type": "display_data"
    }
   ],
   "source": [
    "# Visualise the accuracy\n",
    "fig = plt.figure()\n",
    "plt.plot(hist.history['accuracy'], color='teal', label='accuracy')\n",
    "plt.plot(hist.history['val_accuracy'], color='orange', label='val_accuracy')\n",
    "fig.suptitle('Accuracy', fontsize=20)\n",
    "plt.legend(loc=\"upper left\")\n",
    "plt.show()"
   ]
  },
  {
   "cell_type": "code",
   "execution_count": 125,
   "id": "d0fe6bbb",
   "metadata": {},
   "outputs": [],
   "source": [
    "# Save the model\n",
    "from tensorflow.keras.models import load_model\n",
    "model.save(os.path.join('models','17ClassesMPIncreased.keras'))"
   ]
  },
  {
   "cell_type": "markdown",
   "id": "b4513a1b",
   "metadata": {},
   "source": [
    "# Making Predictions"
   ]
  },
  {
   "cell_type": "code",
   "execution_count": 101,
   "id": "5cf8c69f",
   "metadata": {},
   "outputs": [],
   "source": [
    "from tensorflow.keras.preprocessing.image import load_img, img_to_array"
   ]
  },
  {
   "cell_type": "code",
   "execution_count": 108,
   "id": "6269308e",
   "metadata": {},
   "outputs": [
    {
     "name": "stdout",
     "output_type": "stream",
     "text": [
      "1/1 [==============================] - 0s 104ms/step\n"
     ]
    }
   ],
   "source": [
    "new_image_paths = ['C:\\\\Users\\\\usman\\\\ML\\\\BeeGPTModel\\\\TestPics\\\\Bluebell.jpg', 'C:\\\\Users\\\\usman\\\\ML\\\\BeeGPTModel\\\\TestPics\\\\Buttercup.jpg', 'C:\\\\Users\\\\usman\\\\ML\\\\BeeGPTModel\\\\TestPics\\\\Coltsfoot.jpg', 'C:\\\\Users\\\\usman\\\\ML\\\\BeeGPTModel\\\\TestPics\\\\Cowslip.jpg', 'C:\\\\Users\\\\usman\\\\ML\\\\BeeGPTModel\\\\TestPics\\\\Crocus.jpg', 'C:\\\\Users\\\\usman\\\\ML\\\\BeeGPTModel\\\\TestPics\\\\Daffodil.jpg', 'C:\\\\Users\\\\usman\\\\ML\\\\BeeGPTModel\\\\TestPics\\\\Daisy.jpg', 'C:\\\\Users\\\\usman\\\\ML\\\\BeeGPTModel\\\\TestPics\\\\Dandelion.jpg', 'C:\\\\Users\\\\usman\\\\ML\\\\BeeGPTModel\\\\TestPics\\\\Fritillary.jpg', 'C:\\\\Users\\\\usman\\\\ML\\\\BeeGPTModel\\\\TestPics\\\\Iris.jpg', 'C:\\\\Users\\\\usman\\\\ML\\\\BeeGPTModel\\\\TestPics\\\\LilValley.jpg', 'C:\\\\Users\\\\usman\\\\ML\\\\BeeGPTModel\\\\TestPics\\\\Pansy.jpg', 'C:\\\\Users\\\\usman\\\\ML\\\\BeeGPTModel\\\\TestPics\\\\Snowdrop.jpg', 'C:\\\\Users\\\\usman\\\\ML\\\\BeeGPTModel\\\\TestPics\\\\Sunflower.jpg', 'C:\\\\Users\\\\usman\\\\ML\\\\BeeGPTModel\\\\TestPics\\\\Tigerly.jpg', 'C:\\\\Users\\\\usman\\\\ML\\\\BeeGPTModel\\\\TestPics\\\\Tulip.jpg', 'C:\\\\Users\\\\usman\\\\ML\\\\BeeGPTModel\\\\TestPics\\\\Windflower.jpg']\n",
    "new_images = []  # Store preprocessed images here\n",
    "for image_path in new_image_paths:\n",
    "    new_image = load_img(image_path, target_size=image_size)\n",
    "    new_image = img_to_array(new_image)\n",
    "    new_image = new_image / 255.0\n",
    "    new_images.append(new_image)\n",
    "\n",
    "new_images = np.array(new_images)\n",
    "\n",
    "# Make predictions for all new images\n",
    "predictions = model.predict(new_images)"
   ]
  },
  {
   "cell_type": "code",
   "execution_count": 109,
   "id": "9490bd3a",
   "metadata": {},
   "outputs": [],
   "source": [
    "predicted_labels = np.argmax(predictions, axis=1)\n",
    "class_labels = list(label_to_index.keys())  # Get class labels from the label-to-index mapping\n",
    "predicted_classes = [class_labels[i] for i in predicted_labels]"
   ]
  },
  {
   "cell_type": "code",
   "execution_count": 110,
   "id": "5bb89837",
   "metadata": {},
   "outputs": [
    {
     "name": "stdout",
     "output_type": "stream",
     "text": [
      "['Bluebell', 'Buttercup', 'Tulip', 'Buttercup', 'Bluebell', 'Cowslip', 'Snowdrop', 'Iris', 'Fritillary', 'Crocus', 'Snowdrop', 'Crocus', 'Snowdrop', 'Tulip', 'Tigerlily', 'Bluebell', 'Fritillary']\n"
     ]
    }
   ],
   "source": [
    "print(predicted_classes) ## Can't recognise tulips???"
   ]
  },
  {
   "cell_type": "code",
   "execution_count": null,
   "id": "edd90f31",
   "metadata": {},
   "outputs": [],
   "source": []
  }
 ],
 "metadata": {
  "kernelspec": {
   "display_name": "Python 3 (ipykernel)",
   "language": "python",
   "name": "python3"
  },
  "language_info": {
   "codemirror_mode": {
    "name": "ipython",
    "version": 3
   },
   "file_extension": ".py",
   "mimetype": "text/x-python",
   "name": "python",
   "nbconvert_exporter": "python",
   "pygments_lexer": "ipython3",
   "version": "3.11.3"
  }
 },
 "nbformat": 4,
 "nbformat_minor": 5
}
